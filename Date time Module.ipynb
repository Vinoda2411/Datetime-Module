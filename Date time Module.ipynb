{
 "cells": [
  {
   "cell_type": "markdown",
   "id": "c3f90059",
   "metadata": {},
   "source": [
    "## Datetime is module in that we have 4 labraries-Datetime,date,time,timedelta"
   ]
  },
  {
   "cell_type": "markdown",
   "id": "6e927aa3",
   "metadata": {},
   "source": [
    "# Datetime Class\n",
    "##Datetime handles both date and time\n"
   ]
  },
  {
   "cell_type": "code",
   "execution_count": 2,
   "id": "47c78aa0",
   "metadata": {},
   "outputs": [],
   "source": [
    "import datetime "
   ]
  },
  {
   "cell_type": "code",
   "execution_count": 4,
   "id": "60272c16",
   "metadata": {},
   "outputs": [
    {
     "name": "stdout",
     "output_type": "stream",
     "text": [
      "2025-01-09 13:39:34.490577\n"
     ]
    }
   ],
   "source": [
    "x=datetime.datetime.now()\n",
    "print(x)"
   ]
  },
  {
   "cell_type": "code",
   "execution_count": 5,
   "id": "b7ea4dfd",
   "metadata": {},
   "outputs": [
    {
     "name": "stdout",
     "output_type": "stream",
     "text": [
      "2025-01-09 08:09:34.738361\n"
     ]
    }
   ],
   "source": [
    "y=datetime.datetime.utcnow()\n",
    "print(y)"
   ]
  },
  {
   "cell_type": "code",
   "execution_count": 6,
   "id": "c6923252",
   "metadata": {},
   "outputs": [
    {
     "name": "stdout",
     "output_type": "stream",
     "text": [
      "2025-11-24 06:06:06\n"
     ]
    }
   ],
   "source": [
    "#how to create own date\n",
    "#z=datetime.datetime(year,month,date,hour,minute,seconds)\n",
    "z=datetime.datetime(2025,11,24,6,6,6)\n",
    "print(z)"
   ]
  },
  {
   "cell_type": "code",
   "execution_count": 7,
   "id": "77465bed",
   "metadata": {},
   "outputs": [
    {
     "name": "stdout",
     "output_type": "stream",
     "text": [
      "2025 \n",
      " 11 \n",
      " 24 \n",
      " 6 \n",
      " 6 \n",
      " 6\n"
     ]
    }
   ],
   "source": [
    "print(z.year,\"\\n\",z.month,\"\\n\",z.day,\"\\n\",z.hour,\"\\n\",z.minute,'\\n',z.second)"
   ]
  },
  {
   "cell_type": "code",
   "execution_count": 16,
   "id": "ef00d559",
   "metadata": {},
   "outputs": [
    {
     "name": "stdout",
     "output_type": "stream",
     "text": [
      "13\n"
     ]
    }
   ],
   "source": [
    "#1. What is the current time?\n",
    "x=datetime.datetime.now()\n",
    "print(x.hour)"
   ]
  },
  {
   "cell_type": "code",
   "execution_count": 32,
   "id": "2af53f21",
   "metadata": {},
   "outputs": [
    {
     "data": {
      "text/plain": [
       "datetime.datetime(2025, 1, 9, 20, 29, 22, 393429)"
      ]
     },
     "execution_count": 32,
     "metadata": {},
     "output_type": "execute_result"
    }
   ],
   "source": [
    "#what is todays date??\n",
    "today=datetime.datetime.now()\n",
    "today"
   ]
  },
  {
   "cell_type": "code",
   "execution_count": 31,
   "id": "146f76a2",
   "metadata": {},
   "outputs": [
    {
     "data": {
      "text/plain": [
       "datetime.datetime(2025, 1, 9, 20, 29, 17, 116299)"
      ]
     },
     "execution_count": 31,
     "metadata": {},
     "output_type": "execute_result"
    }
   ],
   "source": [
    "today=datetime.datetime.today()\n",
    "today"
   ]
  },
  {
   "cell_type": "code",
   "execution_count": 33,
   "id": "14f657be",
   "metadata": {},
   "outputs": [
    {
     "data": {
      "text/plain": [
       "'what is the difference between datetime.now() and datetime.today()\\ndatetime.now() support time zone info but datetime.today() will not support time zone infor if you pass time zone info'"
      ]
     },
     "execution_count": 33,
     "metadata": {},
     "output_type": "execute_result"
    }
   ],
   "source": [
    "\"\"\"what is the difference between datetime.now() and datetime.today()????\n",
    "datetime.now() support time zone info but datetime.today() will not support time zone infor if you pass time zone info\"\"\""
   ]
  },
  {
   "cell_type": "code",
   "execution_count": 27,
   "id": "68436483",
   "metadata": {},
   "outputs": [
    {
     "data": {
      "text/plain": [
       "'9-1-2025'"
      ]
     },
     "execution_count": 27,
     "metadata": {},
     "output_type": "execute_result"
    }
   ],
   "source": [
    "#what is the date? only date created using datetime class\n",
    "onlydate=\"-\".join([str(today.day),str(today.month),str(today.year)])\n",
    "onlydate\n"
   ]
  },
  {
   "cell_type": "code",
   "execution_count": 30,
   "id": "99b41cc4",
   "metadata": {},
   "outputs": [
    {
     "name": "stdout",
     "output_type": "stream",
     "text": [
      "Min DateTime supported 0001-01-01 00:00:00\n",
      "Max DateTime supported 0001-01-01 00:00:00\n"
     ]
    }
   ],
   "source": [
    "#datetime min and max\n",
    "mindatetime=datetime.datetime.min\n",
    "print(\"Min DateTime supported\", mindatetime)\n",
    "maxdatetime=datetime.datetime.max\n",
    "print(\"Max DateTime supported\", mindatetime)"
   ]
  },
  {
   "cell_type": "code",
   "execution_count": 54,
   "id": "ad02a6a1",
   "metadata": {},
   "outputs": [
    {
     "name": "stdout",
     "output_type": "stream",
     "text": [
      "Datetime std timestamp: 1970-01-01 05:30:00\n",
      "Datetime from timestamp: 1981-01-09 05:30:00\n"
     ]
    }
   ],
   "source": [
    "##We can create date objects from timestamps y=using the fromtimestamp() method. \n",
    "##The timestamp is the number of seconds from 1st January 1970 at UTC to a particular date.\n",
    "date_time = datetime.datetime.fromtimestamp(0)\n",
    "print(\"Datetime std timestamp:\", date_time)\n",
    "x=366*24*60*60*11\n",
    "date_time = datetime.datetime.fromtimestamp(x)\n",
    "print(\"Datetime from timestamp:\", date_time)"
   ]
  },
  {
   "cell_type": "markdown",
   "id": "8e47acd4",
   "metadata": {},
   "source": [
    "# Date class\n"
   ]
  },
  {
   "cell_type": "code",
   "execution_count": 35,
   "id": "c147d3f2",
   "metadata": {},
   "outputs": [],
   "source": [
    "#date calss will give only date\n",
    "#To return the current local date today() function of the date class is used. today() function comes with several attributes (year, month, and day).\n"
   ]
  },
  {
   "cell_type": "code",
   "execution_count": 40,
   "id": "b2dbb226",
   "metadata": {},
   "outputs": [
    {
     "name": "stdout",
     "output_type": "stream",
     "text": [
      "todays date 2025-01-09\n"
     ]
    }
   ],
   "source": [
    "import datetime\n",
    "today=datetime.date.today()\n",
    "print(\"todays date\", today)"
   ]
  },
  {
   "cell_type": "code",
   "execution_count": 39,
   "id": "c4c2b7eb",
   "metadata": {},
   "outputs": [
    {
     "name": "stdout",
     "output_type": "stream",
     "text": [
      "9 \n",
      " 1 \n",
      " 2025\n"
     ]
    }
   ],
   "source": [
    "print(today.day,\"\\n\",today.month,\"\\n\",today.year)"
   ]
  },
  {
   "cell_type": "code",
   "execution_count": null,
   "id": "f49bf320",
   "metadata": {},
   "outputs": [],
   "source": []
  }
 ],
 "metadata": {
  "kernelspec": {
   "display_name": "Python 3 (ipykernel)",
   "language": "python",
   "name": "python3"
  },
  "language_info": {
   "codemirror_mode": {
    "name": "ipython",
    "version": 3
   },
   "file_extension": ".py",
   "mimetype": "text/x-python",
   "name": "python",
   "nbconvert_exporter": "python",
   "pygments_lexer": "ipython3",
   "version": "3.11.5"
  }
 },
 "nbformat": 4,
 "nbformat_minor": 5
}
