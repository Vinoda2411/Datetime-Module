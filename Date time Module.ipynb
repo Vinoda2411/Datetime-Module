{
 "cells": [
  {
   "cell_type": "markdown",
   "id": "c3f90059",
   "metadata": {},
   "source": [
    "## Datetime is module in that we have 4 labraries-Datetime,date,time,timedelta"
   ]
  },
  {
   "cell_type": "markdown",
   "id": "6e927aa3",
   "metadata": {},
   "source": [
    "# Datetime Class\n",
    "Datetime handles both date and time\n"
   ]
  },
  {
   "cell_type": "code",
   "execution_count": 1,
   "id": "47c78aa0",
   "metadata": {},
   "outputs": [],
   "source": [
    "import datetime "
   ]
  },
  {
   "cell_type": "code",
   "execution_count": 2,
   "id": "60272c16",
   "metadata": {},
   "outputs": [
    {
     "name": "stdout",
     "output_type": "stream",
     "text": [
      "2025-05-27 22:55:25.265647\n"
     ]
    }
   ],
   "source": [
    "x=datetime.datetime.now()\n",
    "print(x)"
   ]
  },
  {
   "cell_type": "code",
   "execution_count": 3,
   "id": "b7ea4dfd",
   "metadata": {},
   "outputs": [
    {
     "name": "stdout",
     "output_type": "stream",
     "text": [
      "2025-05-27 17:25:25.272812\n"
     ]
    }
   ],
   "source": [
    "y=datetime.datetime.utcnow()\n",
    "print(y)"
   ]
  },
  {
   "cell_type": "code",
   "execution_count": 4,
   "id": "c6923252",
   "metadata": {},
   "outputs": [
    {
     "name": "stdout",
     "output_type": "stream",
     "text": [
      "2025-11-24 06:06:06\n"
     ]
    }
   ],
   "source": [
    "#how to create own date\n",
    "#z=datetime.datetime(year,month,date,hour,minute,seconds)\n",
    "z=datetime.datetime(2025,11,24,6,6,6)\n",
    "print(z)"
   ]
  },
  {
   "cell_type": "code",
   "execution_count": 5,
   "id": "77465bed",
   "metadata": {},
   "outputs": [
    {
     "name": "stdout",
     "output_type": "stream",
     "text": [
      "2025 \n",
      " 11 \n",
      " 24 \n",
      " 6 \n",
      " 6 \n",
      " 6\n"
     ]
    }
   ],
   "source": [
    "print(z.year,\"\\n\",z.month,\"\\n\",z.day,\"\\n\",z.hour,\"\\n\",z.minute,'\\n',z.second)"
   ]
  },
  {
   "cell_type": "code",
   "execution_count": 6,
   "id": "ef00d559",
   "metadata": {},
   "outputs": [
    {
     "name": "stdout",
     "output_type": "stream",
     "text": [
      "22\n"
     ]
    }
   ],
   "source": [
    "#1. What is the current time?\n",
    "x=datetime.datetime.now()\n",
    "print(x.hour)"
   ]
  },
  {
   "cell_type": "code",
   "execution_count": 7,
   "id": "2af53f21",
   "metadata": {},
   "outputs": [
    {
     "data": {
      "text/plain": [
       "datetime.datetime(2025, 5, 27, 22, 55, 25, 297363)"
      ]
     },
     "execution_count": 7,
     "metadata": {},
     "output_type": "execute_result"
    }
   ],
   "source": [
    "#what is todays date??\n",
    "today=datetime.datetime.now()\n",
    "today"
   ]
  },
  {
   "cell_type": "code",
   "execution_count": 8,
   "id": "146f76a2",
   "metadata": {},
   "outputs": [
    {
     "data": {
      "text/plain": [
       "datetime.datetime(2025, 5, 27, 22, 55, 25, 307421)"
      ]
     },
     "execution_count": 8,
     "metadata": {},
     "output_type": "execute_result"
    }
   ],
   "source": [
    "today=datetime.datetime.today()\n",
    "today"
   ]
  },
  {
   "cell_type": "code",
   "execution_count": 9,
   "id": "14f657be",
   "metadata": {},
   "outputs": [
    {
     "data": {
      "text/plain": [
       "'what is the difference between datetime.now() and datetime.today()????\\ndatetime.now() support time zone info but datetime.today() will not support time zone infor if you pass time zone info'"
      ]
     },
     "execution_count": 9,
     "metadata": {},
     "output_type": "execute_result"
    }
   ],
   "source": [
    "\"\"\"what is the difference between datetime.now() and datetime.today()????\n",
    "datetime.now() support time zone info but datetime.today() will not support time zone infor if you pass time zone info\"\"\""
   ]
  },
  {
   "cell_type": "code",
   "execution_count": 10,
   "id": "68436483",
   "metadata": {},
   "outputs": [
    {
     "data": {
      "text/plain": [
       "'27-5-2025'"
      ]
     },
     "execution_count": 10,
     "metadata": {},
     "output_type": "execute_result"
    }
   ],
   "source": [
    "#what is the date? only date created using datetime class\n",
    "onlydate=\"-\".join([str(today.day),str(today.month),str(today.year)])\n",
    "onlydate\n"
   ]
  },
  {
   "cell_type": "markdown",
   "id": "8e47acd4",
   "metadata": {},
   "source": [
    "# Date class\n"
   ]
  },
  {
   "cell_type": "markdown",
   "id": "cd8f7fc2",
   "metadata": {},
   "source": [
    "#date calss will give only date\n",
    "#To return the current local date today() function of the date class is used. today() function comes with several attributes (year, month, and day)."
   ]
  },
  {
   "cell_type": "code",
   "execution_count": 11,
   "id": "b2dbb226",
   "metadata": {},
   "outputs": [
    {
     "name": "stdout",
     "output_type": "stream",
     "text": [
      "todays date 2025-05-27\n"
     ]
    }
   ],
   "source": [
    "import datetime\n",
    "today=datetime.date.today()\n",
    "print(\"todays date\", today)"
   ]
  },
  {
   "cell_type": "code",
   "execution_count": 12,
   "id": "bc3f4a15",
   "metadata": {},
   "outputs": [
    {
     "name": "stdout",
     "output_type": "stream",
     "text": [
      "min date 0001-01-01\n"
     ]
    }
   ],
   "source": [
    "print(\"min date\", datetime.date.min)"
   ]
  },
  {
   "cell_type": "code",
   "execution_count": 13,
   "id": "c4c2b7eb",
   "metadata": {},
   "outputs": [
    {
     "name": "stdout",
     "output_type": "stream",
     "text": [
      "27 \n",
      " 5 \n",
      " 2025\n"
     ]
    }
   ],
   "source": [
    "print(today.day,\"\\n\",today.month,\"\\n\",today.year)"
   ]
  },
  {
   "cell_type": "code",
   "execution_count": 14,
   "id": "f49bf320",
   "metadata": {},
   "outputs": [],
   "source": [
    "##We can convert date object to a string representation using two functions isoformat() and strftime()."
   ]
  },
  {
   "cell_type": "code",
   "execution_count": 15,
   "id": "794d2e96",
   "metadata": {
    "scrolled": true
   },
   "outputs": [
    {
     "data": {
      "text/plain": [
       "'2025-05-27'"
      ]
     },
     "execution_count": 15,
     "metadata": {},
     "output_type": "execute_result"
    }
   ],
   "source": [
    "date_in_str=datetime.date.isoformat(today)# isoformat will return only \"YYYY-MM-DD\" format\n",
    "date_in_str"
   ]
  },
  {
   "cell_type": "code",
   "execution_count": 16,
   "id": "d5345d01",
   "metadata": {},
   "outputs": [
    {
     "data": {
      "text/plain": [
       "'2025-05-27'"
      ]
     },
     "execution_count": 16,
     "metadata": {},
     "output_type": "execute_result"
    }
   ],
   "source": [
    "date_in_str1=datetime.date.today().strftime(\"%Y-%m-%d\")\n",
    "date_in_str1"
   ]
  },
  {
   "cell_type": "code",
   "execution_count": 17,
   "id": "2b30e7cb",
   "metadata": {},
   "outputs": [
    {
     "data": {
      "text/plain": [
       "'47'"
      ]
     },
     "execution_count": 17,
     "metadata": {},
     "output_type": "execute_result"
    }
   ],
   "source": [
    "#%A-Monday #%a-Mon, #%B-November #%b-Nov #j-Day of the year #%W- Week number %I-time %p-AM/PM\n",
    "date_in_str2=datetime.datetime(2025,11,23,6,10,10).strftime(\"%V\")\n",
    "date_in_str2"
   ]
  },
  {
   "cell_type": "code",
   "execution_count": 18,
   "id": "f9337ea8",
   "metadata": {},
   "outputs": [
    {
     "data": {
      "text/plain": [
       "datetime.datetime(2025, 11, 24, 6, 10, 50)"
      ]
     },
     "execution_count": 18,
     "metadata": {},
     "output_type": "execute_result"
    }
   ],
   "source": [
    "##We can convert date object to a string representation using two functions isoformat() and strftime().\n",
    "#sting to time \n",
    "import datetime\n",
    "today='2025-11-24' ##this shold be in 'YYYY-MM-DD' format only\n",
    "today1=datetime.date.fromisoformat(today)\n",
    "today1\n",
    "\n",
    "t1='2025/11/24 06:10:50'\n",
    "t1=datetime.datetime.strptime(t1,\"%Y/%m/%d %H:%M:%S\")\n",
    "t1"
   ]
  },
  {
   "cell_type": "markdown",
   "id": "d0f2c11b",
   "metadata": {},
   "source": [
    "# TIme Class"
   ]
  },
  {
   "cell_type": "code",
   "execution_count": 19,
   "id": "3bf7345d",
   "metadata": {},
   "outputs": [
    {
     "data": {
      "text/plain": [
       "datetime.time(0, 0)"
      ]
     },
     "execution_count": 19,
     "metadata": {},
     "output_type": "execute_result"
    }
   ],
   "source": [
    "#time function without argument\n",
    "my_time=datetime.time()\n",
    "my_time"
   ]
  },
  {
   "cell_type": "code",
   "execution_count": 20,
   "id": "454f78ed",
   "metadata": {},
   "outputs": [
    {
     "data": {
      "text/plain": [
       "datetime.time(23, 50, 40)"
      ]
     },
     "execution_count": 20,
     "metadata": {},
     "output_type": "execute_result"
    }
   ],
   "source": [
    "#with all arguments\n",
    "my_time=datetime.time(hour=23,minute=50,second=40)\n",
    "my_time"
   ]
  },
  {
   "cell_type": "code",
   "execution_count": 21,
   "id": "a925dafa",
   "metadata": {},
   "outputs": [
    {
     "data": {
      "text/plain": [
       "datetime.time(0, 0, 40)"
      ]
     },
     "execution_count": 21,
     "metadata": {},
     "output_type": "execute_result"
    }
   ],
   "source": [
    "#with only one argument\n",
    "my_time=datetime.time(second=40)\n",
    "my_time"
   ]
  },
  {
   "cell_type": "code",
   "execution_count": 22,
   "id": "52d95f03",
   "metadata": {},
   "outputs": [
    {
     "data": {
      "text/plain": [
       "datetime.time(22, 55, 25, 396197)"
      ]
     },
     "execution_count": 22,
     "metadata": {},
     "output_type": "execute_result"
    }
   ],
   "source": [
    "today=datetime.datetime.today().time()\n",
    "today"
   ]
  },
  {
   "cell_type": "code",
   "execution_count": 23,
   "id": "496dba87",
   "metadata": {},
   "outputs": [
    {
     "data": {
      "text/plain": [
       "datetime.time(22, 55, 25, 402370)"
      ]
     },
     "execution_count": 23,
     "metadata": {},
     "output_type": "execute_result"
    }
   ],
   "source": [
    "now=datetime.datetime.now().time()\n",
    "now"
   ]
  },
  {
   "cell_type": "code",
   "execution_count": 24,
   "id": "30733d95",
   "metadata": {},
   "outputs": [
    {
     "name": "stdout",
     "output_type": "stream",
     "text": [
      "22 \n",
      " 55 \n",
      " 25\n"
     ]
    }
   ],
   "source": [
    "print(now.hour,\"\\n\",now.minute,\"\\n\",now.second)"
   ]
  },
  {
   "cell_type": "markdown",
   "id": "bfb50736",
   "metadata": {},
   "source": [
    "# Min and Max Functions"
   ]
  },
  {
   "cell_type": "markdown",
   "id": "bbc05721",
   "metadata": {},
   "source": [
    "Datetime class"
   ]
  },
  {
   "cell_type": "code",
   "execution_count": 25,
   "id": "e27b201c",
   "metadata": {},
   "outputs": [
    {
     "name": "stdout",
     "output_type": "stream",
     "text": [
      "Min DateTime supported 0001-01-01 00:00:00\n",
      "Max DateTime supported 9999-12-31 23:59:59.999999\n"
     ]
    }
   ],
   "source": [
    "#datetime min and max\n",
    "mindatetime=datetime.datetime.min\n",
    "print(\"Min DateTime supported\", mindatetime)\n",
    "maxdatetime=datetime.datetime.max\n",
    "print(\"Max DateTime supported\", maxdatetime)"
   ]
  },
  {
   "cell_type": "markdown",
   "id": "a529004b",
   "metadata": {},
   "source": [
    "Date class"
   ]
  },
  {
   "cell_type": "code",
   "execution_count": 26,
   "id": "defe188c",
   "metadata": {},
   "outputs": [
    {
     "name": "stdout",
     "output_type": "stream",
     "text": [
      "mindate 0001-01-01\n",
      "maxdate 9999-12-31\n"
     ]
    }
   ],
   "source": [
    "today=datetime.date.today()\n",
    "print(\"mindate\",today.min)\n",
    "print(\"maxdate\",today.max)"
   ]
  },
  {
   "cell_type": "markdown",
   "id": "548a4db4",
   "metadata": {},
   "source": [
    "Time calss"
   ]
  },
  {
   "cell_type": "code",
   "execution_count": 27,
   "id": "6fcdf79e",
   "metadata": {},
   "outputs": [
    {
     "name": "stdout",
     "output_type": "stream",
     "text": [
      "min time: 00:00:00\n",
      "max time: 23:59:59.999999\n"
     ]
    }
   ],
   "source": [
    "#min and max time\n",
    "print(\"min time:\",datetime.time.min)\n",
    "print(\"max time:\",datetime.time.max)"
   ]
  },
  {
   "cell_type": "markdown",
   "id": "289a17f5",
   "metadata": {},
   "source": [
    "# Ctime()"
   ]
  },
  {
   "cell_type": "markdown",
   "id": "0e88a114",
   "metadata": {},
   "source": [
    "\"\"\"The ctime() function is used to return a string containing the date and time.\n",
    "Syntax: ctime()\n",
    "Parameters: This function does not accept any parameter.\n",
    "Return values: This function returns a string containing the date and time.\n",
    "The format of the string representation:\n",
    "\n",
    "The string is of 24-character length.\n",
    "Week is printed as a three-letter word.\n",
    "Sun, Mo, Tue, Wed, Thu, Fri, Sat\n",
    "Months are represented as three-digit letters\n",
    "Jan, Feb, Mar, Apr, May, Jun, Jul, Aug, Sep, Oct, Nov, Dec\n",
    "The day of the month is represented as a two-digit number\n",
    "Time is represented in HH:MM:SS format\n",
    "The year is a 4 digit number\"\"\"\n"
   ]
  },
  {
   "cell_type": "markdown",
   "id": "f6634f5d",
   "metadata": {},
   "source": [
    "Datetime class"
   ]
  },
  {
   "cell_type": "code",
   "execution_count": 28,
   "id": "81228f79",
   "metadata": {},
   "outputs": [
    {
     "name": "stdout",
     "output_type": "stream",
     "text": [
      "Tue May 27 00:00:00 2025\n",
      "Tue May 27 22:55:25 2025\n"
     ]
    }
   ],
   "source": [
    "#Ex1\n",
    "import datetime\n",
    "today=datetime.date.today()\n",
    "con=today.ctime()\n",
    "print(con)\n",
    "#Ex2\n",
    "today1=datetime.datetime.today()\n",
    "co=today1.ctime()\n",
    "print(co)"
   ]
  },
  {
   "cell_type": "markdown",
   "id": "d3c2edb4",
   "metadata": {},
   "source": [
    "Date class"
   ]
  },
  {
   "cell_type": "code",
   "execution_count": 29,
   "id": "d5bea980",
   "metadata": {},
   "outputs": [
    {
     "data": {
      "text/plain": [
       "'Tue May 27 00:00:00 2025'"
      ]
     },
     "execution_count": 29,
     "metadata": {},
     "output_type": "execute_result"
    }
   ],
   "source": [
    "import datetime\n",
    "today1=datetime.date.today()\n",
    "con1=today1.ctime()\n",
    "con1"
   ]
  },
  {
   "cell_type": "markdown",
   "id": "c184ee38",
   "metadata": {},
   "source": [
    "Time class"
   ]
  },
  {
   "cell_type": "code",
   "execution_count": 30,
   "id": "0b009aa9",
   "metadata": {},
   "outputs": [
    {
     "ename": "AttributeError",
     "evalue": "'datetime.time' object has no attribute 'ctime'",
     "output_type": "error",
     "traceback": [
      "\u001b[1;31m---------------------------------------------------------------------------\u001b[0m",
      "\u001b[1;31mAttributeError\u001b[0m                            Traceback (most recent call last)",
      "Cell \u001b[1;32mIn[30], line 3\u001b[0m\n\u001b[0;32m      1\u001b[0m \u001b[38;5;28;01mimport\u001b[39;00m \u001b[38;5;21;01mdatetime\u001b[39;00m\n\u001b[0;32m      2\u001b[0m today\u001b[38;5;241m=\u001b[39mdatetime\u001b[38;5;241m.\u001b[39mtime()\n\u001b[1;32m----> 3\u001b[0m con2\u001b[38;5;241m=\u001b[39mtoday\u001b[38;5;241m.\u001b[39mctime()\n",
      "\u001b[1;31mAttributeError\u001b[0m: 'datetime.time' object has no attribute 'ctime'"
     ]
    }
   ],
   "source": [
    "import datetime\n",
    "today=datetime.time()\n",
    "con2=today.ctime()"
   ]
  },
  {
   "cell_type": "markdown",
   "id": "18accd55",
   "metadata": {},
   "source": [
    "# fromtimestamp()"
   ]
  },
  {
   "cell_type": "markdown",
   "id": "fcf2d969",
   "metadata": {},
   "source": [
    "1.We can create date objects from timestamps y=using the fromtimestamp() method. \n",
    "\n",
    "2.The timestamp is the number of seconds from 1st January 1970 at UTC to a particular date."
   ]
  },
  {
   "cell_type": "markdown",
   "id": "465be20d",
   "metadata": {},
   "source": [
    "Datetime class"
   ]
  },
  {
   "cell_type": "code",
   "execution_count": 31,
   "id": "427f42cc",
   "metadata": {},
   "outputs": [
    {
     "name": "stdout",
     "output_type": "stream",
     "text": [
      "Datetime std timestamp: 1970-01-01 05:30:00\n",
      "1748366763.165565\n",
      "Datetime from timestamp: 2025-05-27 22:56:03.165565\n"
     ]
    }
   ],
   "source": [
    "date_time = datetime.datetime.fromtimestamp(0)\n",
    "print(\"Datetime std timestamp:\", date_time)\n",
    "import time\n",
    "x=time.time()\n",
    "print(x)\n",
    "date_time = datetime.datetime.fromtimestamp(x)\n",
    "print(\"Datetime from timestamp:\", date_time)"
   ]
  },
  {
   "cell_type": "markdown",
   "id": "c9f9ab99",
   "metadata": {},
   "source": [
    "Date Class"
   ]
  },
  {
   "cell_type": "code",
   "execution_count": 32,
   "id": "2f899481",
   "metadata": {},
   "outputs": [
    {
     "name": "stdout",
     "output_type": "stream",
     "text": [
      "1970-01-01\n",
      "2025-05-27\n"
     ]
    }
   ],
   "source": [
    "datime=datetime.date.fromtimestamp(0)\n",
    "print(datime)\n",
    "import time\n",
    "x=time.time()\n",
    "datime1=datetime.date.fromtimestamp(x)\n",
    "print(datime1)\n"
   ]
  },
  {
   "cell_type": "markdown",
   "id": "0d7f6820",
   "metadata": {},
   "source": [
    "Time Class"
   ]
  },
  {
   "cell_type": "code",
   "execution_count": 33,
   "id": "59bf65e1",
   "metadata": {},
   "outputs": [
    {
     "ename": "AttributeError",
     "evalue": "'datetime.time' object has no attribute 'fromtimestamp'",
     "output_type": "error",
     "traceback": [
      "\u001b[1;31m---------------------------------------------------------------------------\u001b[0m",
      "\u001b[1;31mAttributeError\u001b[0m                            Traceback (most recent call last)",
      "Cell \u001b[1;32mIn[33], line 1\u001b[0m\n\u001b[1;32m----> 1\u001b[0m t_1\u001b[38;5;241m=\u001b[39mdatetime\u001b[38;5;241m.\u001b[39mtime()\u001b[38;5;241m.\u001b[39mfromtimestamp(\u001b[38;5;241m0\u001b[39m)\n\u001b[0;32m      2\u001b[0m \u001b[38;5;28mprint\u001b[39m(t_1)\n",
      "\u001b[1;31mAttributeError\u001b[0m: 'datetime.time' object has no attribute 'fromtimestamp'"
     ]
    }
   ],
   "source": [
    "t_1=datetime.time().fromtimestamp(0)\n",
    "print(t_1)\n"
   ]
  },
  {
   "cell_type": "markdown",
   "id": "de3cdd4e",
   "metadata": {},
   "source": [
    "# isocalendar()\n",
    "\n"
   ]
  },
  {
   "cell_type": "markdown",
   "id": "8cd9d8fb",
   "metadata": {},
   "source": [
    "Syntax: isocalendar()\n",
    "\n",
    "Parameters: This function does not accept any parameter.\n",
    "\n",
    "Return values: This function returns a tuple of ISO Year, ISO Week Number and ISO Weekday. Monday is 1 and sumday is 7"
   ]
  },
  {
   "cell_type": "markdown",
   "id": "a8fd0758",
   "metadata": {},
   "source": [
    "Datetime class"
   ]
  },
  {
   "cell_type": "code",
   "execution_count": 34,
   "id": "9c307803",
   "metadata": {},
   "outputs": [
    {
     "name": "stdout",
     "output_type": "stream",
     "text": [
      "datetime.IsoCalendarDate(year=2025, week=22, weekday=2)\n",
      "datetime.IsoCalendarDate(year=2025, week=22, weekday=2)\n",
      "datetime.IsoCalendarDate(year=2025, week=3, weekday=7)\n",
      "datetime.IsoCalendarDate(year=2025, week=48, weekday=1)\n"
     ]
    }
   ],
   "source": [
    "d1=datetime.datetime.today().isocalendar()\n",
    "print(d1)\n",
    "d2=datetime.datetime.now().isocalendar()\n",
    "print(d2)\n",
    "d3=datetime.datetime(year=2025,month=1,day=19).isocalendar()\n",
    "print(d3)\n",
    "d4=datetime.datetime(2025,11,24).isocalendar()\n",
    "print(d4)"
   ]
  },
  {
   "cell_type": "markdown",
   "id": "89eb132e",
   "metadata": {},
   "source": [
    "Date Class"
   ]
  },
  {
   "cell_type": "code",
   "execution_count": 35,
   "id": "778cd1b3",
   "metadata": {},
   "outputs": [
    {
     "name": "stdout",
     "output_type": "stream",
     "text": [
      "datetime.IsoCalendarDate(year=2025, week=22, weekday=2)\n",
      "datetime.IsoCalendarDate(year=2025, week=49, weekday=1)\n"
     ]
    }
   ],
   "source": [
    "d1=datetime.date.today().isocalendar()\n",
    "print(d1)\n",
    "d2=datetime.date(2025,12,1).isocalendar()\n",
    "print(d2)"
   ]
  },
  {
   "cell_type": "markdown",
   "id": "26fea7ed",
   "metadata": {},
   "source": [
    "Time class"
   ]
  },
  {
   "cell_type": "code",
   "execution_count": 36,
   "id": "620e4b7f",
   "metadata": {},
   "outputs": [
    {
     "ename": "AttributeError",
     "evalue": "'datetime.time' object has no attribute 'isocalendar'",
     "output_type": "error",
     "traceback": [
      "\u001b[1;31m---------------------------------------------------------------------------\u001b[0m",
      "\u001b[1;31mAttributeError\u001b[0m                            Traceback (most recent call last)",
      "Cell \u001b[1;32mIn[36], line 1\u001b[0m\n\u001b[1;32m----> 1\u001b[0m d1\u001b[38;5;241m=\u001b[39mdatetime\u001b[38;5;241m.\u001b[39mtime()\u001b[38;5;241m.\u001b[39misocalendar()\n\u001b[0;32m      2\u001b[0m \u001b[38;5;28mprint\u001b[39m(d1)\n",
      "\u001b[1;31mAttributeError\u001b[0m: 'datetime.time' object has no attribute 'isocalendar'"
     ]
    }
   ],
   "source": [
    "d1=datetime.time().isocalendar()\n",
    "print(d1)"
   ]
  },
  {
   "cell_type": "markdown",
   "id": "fd71d432",
   "metadata": {},
   "source": [
    "# isoformat()"
   ]
  },
  {
   "cell_type": "markdown",
   "id": "7b5fb55f",
   "metadata": {},
   "source": [
    "The standard ISO 8601 format is all about date formats for the Gregorian calendar. This format prescribes that a calendar date needs to be represented using a 4-digit year followed by a two-digit month and a two-digit date. i.e., YYYY-MM-DD. Example: 2020-01-01.\n",
    "    Syntax: isoformat(sep=’T’, timespec=’auto’)\n",
    "\n",
    "\n",
    "Parameters: This function accepts two parameters which are illustrated below:\n",
    "\n",
    "\n",
    "sep: It is the separator character that is to be printed between the date and time fields. It is an Optional Parameter having default value of “T”.\n",
    "\n",
    "timespec: It is the format specifier for the timespec. It is also an Optional Parameter with a default value of “auto”."
   ]
  },
  {
   "cell_type": "markdown",
   "id": "11859bbc",
   "metadata": {},
   "source": [
    "Datetime class"
   ]
  },
  {
   "cell_type": "code",
   "execution_count": 37,
   "id": "689edf4f",
   "metadata": {},
   "outputs": [
    {
     "name": "stdout",
     "output_type": "stream",
     "text": [
      "2025-05-27T22:56:48.884568\n",
      "2025-05-27T22:56:48.885100\n",
      "2024-11-24T00:00:00\n"
     ]
    }
   ],
   "source": [
    "d1=datetime.datetime.today().isoformat()\n",
    "print(d1)\n",
    "d2=datetime.datetime.now().isoformat()\n",
    "print(d2)\n",
    "d3=datetime.datetime(2024,11,24).isoformat()\n",
    "print(d3)"
   ]
  },
  {
   "cell_type": "markdown",
   "id": "87eae0bb",
   "metadata": {},
   "source": [
    "Date Class"
   ]
  },
  {
   "cell_type": "code",
   "execution_count": 38,
   "id": "054ef9e4",
   "metadata": {},
   "outputs": [
    {
     "name": "stdout",
     "output_type": "stream",
     "text": [
      "2025-05-27\n",
      "2025-12-01\n"
     ]
    }
   ],
   "source": [
    "d1=datetime.date.today().isoformat()\n",
    "print(d1)\n",
    "d2=datetime.date(2025,12,1)\n",
    "print(d2)"
   ]
  },
  {
   "cell_type": "markdown",
   "id": "cca1a83c",
   "metadata": {},
   "source": [
    "Time class"
   ]
  },
  {
   "cell_type": "code",
   "execution_count": 39,
   "id": "79a3946b",
   "metadata": {},
   "outputs": [
    {
     "name": "stdout",
     "output_type": "stream",
     "text": [
      "00:00:00\n",
      "22:00:50\n"
     ]
    }
   ],
   "source": [
    "d1=datetime.time().isoformat()\n",
    "print(d1)\n",
    "d2=datetime.time(hour=22,second=50).isoformat()\n",
    "print(d2)"
   ]
  },
  {
   "cell_type": "markdown",
   "id": "a9efdf84",
   "metadata": {},
   "source": [
    "# fromisoformat\n",
    "\n",
    "The fromisoformat() function is used to constructs a date object from a specified string that contains a date in ISO format. i.e., yyyy-mm-dd."
   ]
  },
  {
   "cell_type": "markdown",
   "id": "236f62fe",
   "metadata": {},
   "source": [
    "Datetime class"
   ]
  },
  {
   "cell_type": "code",
   "execution_count": 40,
   "id": "7a8be47a",
   "metadata": {},
   "outputs": [
    {
     "name": "stdout",
     "output_type": "stream",
     "text": [
      "string format of the date 2024-11-24 22:10:57\n",
      "<class 'str'>\n",
      "converting into ISO date format 2024-11-24 22:10:57\n",
      "<class 'datetime.datetime'>\n"
     ]
    }
   ],
   "source": [
    "str1='2024-11-24 22:10:57' ##it shoulbe YYYY-MM-DD HH:MM:DD, it accept if date only given, but if only time given it will through an error\n",
    "d1=datetime.datetime.fromisoformat(str1)\n",
    "print(\"string format of the date %s\"%str1)\n",
    "print(type(str1))\n",
    "print(\"converting into ISO date format %s\"%d1)\n",
    "print(type(d1))\n"
   ]
  },
  {
   "cell_type": "markdown",
   "id": "575a4b14",
   "metadata": {},
   "source": [
    "Date Class"
   ]
  },
  {
   "cell_type": "code",
   "execution_count": 41,
   "id": "7b0e485f",
   "metadata": {},
   "outputs": [
    {
     "name": "stdout",
     "output_type": "stream",
     "text": [
      "string format of the date 2024-11-24 22:10:57\n",
      "<class 'str'>\n",
      "converting into ISO date format 2024-12-01\n",
      "<class 'datetime.date'>\n"
     ]
    }
   ],
   "source": [
    "str2=\"2024-12-01\" #2024-11-24 00:15:15\" it will nthrough error, it shoulbe only YYYY-MM-DD\n",
    "d1=datetime.date.fromisoformat(str2)\n",
    "print(\"string format of the date %s\"%str1)\n",
    "print(type(str1))\n",
    "print(\"converting into ISO date format %s\"%d1)\n",
    "print(type(d1))"
   ]
  },
  {
   "cell_type": "markdown",
   "id": "51a1c319",
   "metadata": {},
   "source": [
    "Time Class\n"
   ]
  },
  {
   "cell_type": "code",
   "execution_count": 42,
   "id": "a96bb725",
   "metadata": {},
   "outputs": [
    {
     "name": "stdout",
     "output_type": "stream",
     "text": [
      "string format of the date 21:17:18\n",
      "<class 'str'>\n",
      "converting into ISO date format 21:17:18\n",
      "<class 'datetime.time'>\n"
     ]
    }
   ],
   "source": [
    "str3=\"21:17:18\" #2024-11-24 00:15:15\" it will through error, it shoulbe only HH:MM:DD\n",
    "d1=datetime.time.fromisoformat(str3)\n",
    "print(\"string format of the date %s\"%str3)\n",
    "print(type(str1))\n",
    "print(\"converting into ISO date format %s\"%d1)\n",
    "print(type(d1))"
   ]
  },
  {
   "cell_type": "markdown",
   "id": "01f391b1",
   "metadata": {},
   "source": [
    "# fromordinal() and toordinal()"
   ]
  },
  {
   "cell_type": "markdown",
   "id": "5a313847",
   "metadata": {},
   "source": [
    "The fromordinal() function is used to return the Gregorian date corresponding to a specified Gregorian ordinal. This is the opposite of the toordinal() function that is used to convert a Gregorian date to a Gregorian ordinal."
   ]
  },
  {
   "cell_type": "markdown",
   "id": "10f8e307",
   "metadata": {},
   "source": [
    "#Gregorian date=0001-01-01\n"
   ]
  },
  {
   "cell_type": "markdown",
   "id": "8c428420",
   "metadata": {},
   "source": [
    "Datetime class"
   ]
  },
  {
   "cell_type": "code",
   "execution_count": 43,
   "id": "ec651eb9",
   "metadata": {},
   "outputs": [
    {
     "name": "stdout",
     "output_type": "stream",
     "text": [
      "todays date as ordinal 739398\n",
      "todays date as ordinal 739398\n",
      "todays date from ordinal 2025-01-14 00:00:00\n"
     ]
    }
   ],
   "source": [
    "d1=datetime.datetime.today().toordinal()\n",
    "print(\"todays date as ordinal %s\"%d1)\n",
    "d1=datetime.datetime.now().toordinal()\n",
    "print(\"todays date as ordinal %s\"%d1)\n",
    "d2=datetime.datetime.fromordinal(739265)\n",
    "print(\"todays date from ordinal %s\"%d2)"
   ]
  },
  {
   "cell_type": "markdown",
   "id": "df43501a",
   "metadata": {},
   "source": [
    "Date Class"
   ]
  },
  {
   "cell_type": "code",
   "execution_count": 44,
   "id": "64f6921f",
   "metadata": {},
   "outputs": [
    {
     "name": "stdout",
     "output_type": "stream",
     "text": [
      "todays date as ordinal 739398\n",
      "todays date from ordinal 2025-01-14\n"
     ]
    }
   ],
   "source": [
    "d1=datetime.date.today().toordinal()\n",
    "print(\"todays date as ordinal %s\"%d1)\n",
    "d2=datetime.date.fromordinal(739265)\n",
    "print(\"todays date from ordinal %s\"%d2)"
   ]
  },
  {
   "cell_type": "markdown",
   "id": "0fc9aeb6",
   "metadata": {},
   "source": [
    "Time class"
   ]
  },
  {
   "cell_type": "code",
   "execution_count": 45,
   "id": "38f1bcd7",
   "metadata": {},
   "outputs": [
    {
     "ename": "AttributeError",
     "evalue": "'datetime.time' object has no attribute 'toordinal'",
     "output_type": "error",
     "traceback": [
      "\u001b[1;31m---------------------------------------------------------------------------\u001b[0m",
      "\u001b[1;31mAttributeError\u001b[0m                            Traceback (most recent call last)",
      "Cell \u001b[1;32mIn[45], line 1\u001b[0m\n\u001b[1;32m----> 1\u001b[0m d1\u001b[38;5;241m=\u001b[39mdatetime\u001b[38;5;241m.\u001b[39mtime()\u001b[38;5;241m.\u001b[39mtoordinal()\n",
      "\u001b[1;31mAttributeError\u001b[0m: 'datetime.time' object has no attribute 'toordinal'"
     ]
    }
   ],
   "source": [
    "d1=datetime.time().toordinal()"
   ]
  },
  {
   "cell_type": "markdown",
   "id": "46432ed0",
   "metadata": {},
   "source": [
    "# weekday() and isoweekday()\n",
    "1. It does not accept any parameter \n",
    "\n",
    "2. weekday() fuction consider monday as 0 and sunday as 6\n",
    "\n",
    "3.isoweekday() function consider monday as 1 and sunday as 7\n"
   ]
  },
  {
   "cell_type": "markdown",
   "id": "c875552c",
   "metadata": {},
   "source": [
    "datetime class"
   ]
  },
  {
   "cell_type": "code",
   "execution_count": 46,
   "id": "a4d97388",
   "metadata": {},
   "outputs": [
    {
     "name": "stdout",
     "output_type": "stream",
     "text": [
      "1\n",
      "2\n"
     ]
    }
   ],
   "source": [
    "d1=datetime.datetime.today().weekday() # today is 2024-01-15\n",
    "print(d1)\n",
    "d2=datetime.datetime.today().isoweekday()# today is 2024-01-15\n",
    "print(d2)"
   ]
  },
  {
   "cell_type": "markdown",
   "id": "25dcdebe",
   "metadata": {},
   "source": [
    "Date class"
   ]
  },
  {
   "cell_type": "code",
   "execution_count": 47,
   "id": "90232c74",
   "metadata": {},
   "outputs": [
    {
     "name": "stdout",
     "output_type": "stream",
     "text": [
      "1\n",
      "2\n"
     ]
    }
   ],
   "source": [
    "d1=datetime.date.today().weekday() # today is 2024-01-15\n",
    "print(d1)\n",
    "d2=datetime.date.today().isoweekday()# today is 2024-01-15\n",
    "print(d2)\n"
   ]
  },
  {
   "cell_type": "markdown",
   "id": "0fb825cb",
   "metadata": {},
   "source": [
    "time class"
   ]
  },
  {
   "cell_type": "code",
   "execution_count": 48,
   "id": "b9f813e4",
   "metadata": {},
   "outputs": [
    {
     "ename": "AttributeError",
     "evalue": "'datetime.time' object has no attribute 'weekday'",
     "output_type": "error",
     "traceback": [
      "\u001b[1;31m---------------------------------------------------------------------------\u001b[0m",
      "\u001b[1;31mAttributeError\u001b[0m                            Traceback (most recent call last)",
      "Cell \u001b[1;32mIn[48], line 1\u001b[0m\n\u001b[1;32m----> 1\u001b[0m d1\u001b[38;5;241m=\u001b[39mdatetime\u001b[38;5;241m.\u001b[39mtime()\u001b[38;5;241m.\u001b[39mweekday()\n",
      "\u001b[1;31mAttributeError\u001b[0m: 'datetime.time' object has no attribute 'weekday'"
     ]
    }
   ],
   "source": [
    "d1=datetime.time().weekday()"
   ]
  },
  {
   "cell_type": "markdown",
   "id": "977cc2f9",
   "metadata": {},
   "source": [
    "# timetuple()\n",
    "timetuple() method returns a time.struct time object which is a named tuple"
   ]
  },
  {
   "cell_type": "markdown",
   "id": "53fbf3e3",
   "metadata": {},
   "source": [
    "datetime class"
   ]
  },
  {
   "cell_type": "code",
   "execution_count": 49,
   "id": "113d9628",
   "metadata": {},
   "outputs": [
    {
     "name": "stdout",
     "output_type": "stream",
     "text": [
      "time.struct_time(tm_year=2025, tm_mon=5, tm_mday=27, tm_hour=22, tm_min=57, tm_sec=9, tm_wday=1, tm_yday=147, tm_isdst=-1)\n"
     ]
    }
   ],
   "source": [
    "d1=datetime.datetime.now().timetuple()\n",
    "print(d1)"
   ]
  },
  {
   "cell_type": "markdown",
   "id": "879b4077",
   "metadata": {},
   "source": [
    "Date class"
   ]
  },
  {
   "cell_type": "code",
   "execution_count": 50,
   "id": "a7528776",
   "metadata": {},
   "outputs": [
    {
     "name": "stdout",
     "output_type": "stream",
     "text": [
      "time.struct_time(tm_year=2025, tm_mon=5, tm_mday=27, tm_hour=0, tm_min=0, tm_sec=0, tm_wday=1, tm_yday=147, tm_isdst=-1)\n"
     ]
    }
   ],
   "source": [
    "d1=datetime.date.today().timetuple()\n",
    "print(d1)"
   ]
  },
  {
   "cell_type": "markdown",
   "id": "8b0b6ad5",
   "metadata": {},
   "source": [
    "time class"
   ]
  },
  {
   "cell_type": "code",
   "execution_count": 51,
   "id": "db2dbeb2",
   "metadata": {
    "scrolled": true
   },
   "outputs": [
    {
     "ename": "AttributeError",
     "evalue": "'datetime.time' object has no attribute 'timetuple'",
     "output_type": "error",
     "traceback": [
      "\u001b[1;31m---------------------------------------------------------------------------\u001b[0m",
      "\u001b[1;31mAttributeError\u001b[0m                            Traceback (most recent call last)",
      "Cell \u001b[1;32mIn[51], line 1\u001b[0m\n\u001b[1;32m----> 1\u001b[0m d1\u001b[38;5;241m=\u001b[39mdatetime\u001b[38;5;241m.\u001b[39mtime()\u001b[38;5;241m.\u001b[39mtimetuple()\n",
      "\u001b[1;31mAttributeError\u001b[0m: 'datetime.time' object has no attribute 'timetuple'"
     ]
    }
   ],
   "source": [
    "d1=datetime.time().timetuple()"
   ]
  },
  {
   "cell_type": "markdown",
   "id": "c8c4b7a4",
   "metadata": {},
   "source": [
    "# strftime()\n",
    "this fuction converte dateetime to string\n",
    "%A-Monday #%a-Mon, #%B-November #%b-Nov #j-Day of tye year #%W- Week number %I-time %p-AM/PM"
   ]
  },
  {
   "cell_type": "markdown",
   "id": "a0a3f695",
   "metadata": {},
   "source": [
    "Datetime class"
   ]
  },
  {
   "cell_type": "code",
   "execution_count": 52,
   "id": "5889c472",
   "metadata": {},
   "outputs": [
    {
     "name": "stdout",
     "output_type": "stream",
     "text": [
      "2025-05-27 22:57:20\n",
      "2025-05-27 22:57:20\n",
      "2025/05/27 22:57:20\n",
      "27 Tuesday 2025\n",
      "27 Tue 2025\n",
      "27 May 2025\n",
      "27 May 2025\n",
      "day of the year 147\n",
      "present time 10 PM\n",
      "week day 2\n",
      "Week Number  21\n",
      "Week Number  21\n"
     ]
    }
   ],
   "source": [
    "d1=datetime.datetime.now().strftime(\"%Y-%m-%d %H:%M:%S\")\n",
    "print(d1)\n",
    "d2=datetime.datetime.today().strftime(\"%Y-%m-%d %H:%M:%S\")\n",
    "print(d2)\n",
    "d3=datetime.datetime.today().strftime(\"%Y/%m/%d %H:%M:%S\")\n",
    "print(d3)\n",
    "d3=datetime.datetime.today().strftime(\"%d %A %Y\")\n",
    "print(d3)\n",
    "d4=datetime.datetime.today().strftime(\"%d %a %Y\")\n",
    "print(d4)\n",
    "d5=datetime.datetime.today().strftime(\"%d %B %Y\")\n",
    "print(d5)\n",
    "d6=datetime.datetime.today().strftime(\"%d %b %Y\")\n",
    "print(d6)\n",
    "d6=datetime.datetime.today().strftime(\"%j\")\n",
    "print(\"day of the year\",d6)\n",
    "d6=datetime.datetime.today().strftime(\"%I %p\")\n",
    "print(\"present time\",d6)\n",
    "d6=datetime.datetime.today().strftime(\"%u\")\n",
    "print(\"week day\",d6)\n",
    "d6=datetime.datetime.today().strftime(\"%W\")\n",
    "print(\"Week Number \",d6)\n",
    "d7=datetime.datetime(2025,5,26).strftime(\"%W\")\n",
    "print(\"Week Number \",d7)"
   ]
  },
  {
   "cell_type": "markdown",
   "id": "515ce267",
   "metadata": {},
   "source": [
    "date class"
   ]
  },
  {
   "cell_type": "code",
   "execution_count": 53,
   "id": "a2bc5071",
   "metadata": {},
   "outputs": [
    {
     "name": "stdout",
     "output_type": "stream",
     "text": [
      "2025-05-27 00:00:00\n"
     ]
    }
   ],
   "source": [
    "d1=datetime.date.today().strftime(\"%Y-%m-%d %H:%M:%S\")\n",
    "print(d1)"
   ]
  },
  {
   "cell_type": "markdown",
   "id": "3dc82f99",
   "metadata": {},
   "source": [
    "Time class"
   ]
  },
  {
   "cell_type": "code",
   "execution_count": 54,
   "id": "46d40d1e",
   "metadata": {},
   "outputs": [
    {
     "name": "stdout",
     "output_type": "stream",
     "text": [
      "1900-01-01 00:00:00\n"
     ]
    }
   ],
   "source": [
    "d1=datetime.time().strftime(\"%Y-%m-%d %H:%M:%S\")\n",
    "print(d1)"
   ]
  },
  {
   "cell_type": "markdown",
   "id": "db4012ae",
   "metadata": {},
   "source": [
    "# strptime()\n",
    "This fuction used to convert str format to date format"
   ]
  },
  {
   "cell_type": "markdown",
   "id": "94696c6d",
   "metadata": {},
   "source": [
    "datetime class"
   ]
  },
  {
   "cell_type": "code",
   "execution_count": 55,
   "id": "bb636f6c",
   "metadata": {},
   "outputs": [
    {
     "name": "stdout",
     "output_type": "stream",
     "text": [
      "2025-11-24 13:15:25\n"
     ]
    }
   ],
   "source": [
    "str1=\"2025-11-24 13:15:25\"\n",
    "d1=datetime.datetime.strptime(str1,\"%Y-%m-%d %H:%M:%S\")\n",
    "print(d1)"
   ]
  },
  {
   "cell_type": "markdown",
   "id": "1f9cb70c",
   "metadata": {},
   "source": [
    "Date class"
   ]
  },
  {
   "cell_type": "code",
   "execution_count": 56,
   "id": "0d35e1df",
   "metadata": {},
   "outputs": [
    {
     "ename": "AttributeError",
     "evalue": "type object 'datetime.date' has no attribute 'strptime'",
     "output_type": "error",
     "traceback": [
      "\u001b[1;31m---------------------------------------------------------------------------\u001b[0m",
      "\u001b[1;31mAttributeError\u001b[0m                            Traceback (most recent call last)",
      "Cell \u001b[1;32mIn[56], line 2\u001b[0m\n\u001b[0;32m      1\u001b[0m str2\u001b[38;5;241m=\u001b[39m\u001b[38;5;124m\"\u001b[39m\u001b[38;5;124m2024/12/10\u001b[39m\u001b[38;5;124m\"\u001b[39m\n\u001b[1;32m----> 2\u001b[0m d1\u001b[38;5;241m=\u001b[39mdatetime\u001b[38;5;241m.\u001b[39mdate\u001b[38;5;241m.\u001b[39mstrptime(str2,\u001b[38;5;124m\"\u001b[39m\u001b[38;5;124m%\u001b[39m\u001b[38;5;124mY/\u001b[39m\u001b[38;5;124m%\u001b[39m\u001b[38;5;124mm/\u001b[39m\u001b[38;5;132;01m%d\u001b[39;00m\u001b[38;5;124m\"\u001b[39m)\n\u001b[0;32m      3\u001b[0m \u001b[38;5;28mprint\u001b[39m(d1)\n",
      "\u001b[1;31mAttributeError\u001b[0m: type object 'datetime.date' has no attribute 'strptime'"
     ]
    }
   ],
   "source": [
    "str2=\"2024/12/10\"\n",
    "d1=datetime.date.strptime(str2,\"%Y/%m/%d\")\n",
    "print(d1)"
   ]
  },
  {
   "cell_type": "code",
   "execution_count": 57,
   "id": "4830b897",
   "metadata": {},
   "outputs": [
    {
     "ename": "AttributeError",
     "evalue": "type object 'datetime.time' has no attribute 'strptime'",
     "output_type": "error",
     "traceback": [
      "\u001b[1;31m---------------------------------------------------------------------------\u001b[0m",
      "\u001b[1;31mAttributeError\u001b[0m                            Traceback (most recent call last)",
      "Cell \u001b[1;32mIn[57], line 2\u001b[0m\n\u001b[0;32m      1\u001b[0m str2\u001b[38;5;241m=\u001b[39m\u001b[38;5;124m\"\u001b[39m\u001b[38;5;124m20:13:14\u001b[39m\u001b[38;5;124m\"\u001b[39m\n\u001b[1;32m----> 2\u001b[0m d1\u001b[38;5;241m=\u001b[39mdatetime\u001b[38;5;241m.\u001b[39mtime\u001b[38;5;241m.\u001b[39mstrptime(str2,\u001b[38;5;124m\"\u001b[39m\u001b[38;5;124m%\u001b[39m\u001b[38;5;124mH:\u001b[39m\u001b[38;5;124m%\u001b[39m\u001b[38;5;124mM:\u001b[39m\u001b[38;5;124m%\u001b[39m\u001b[38;5;124mS\u001b[39m\u001b[38;5;124m\"\u001b[39m)\n\u001b[0;32m      3\u001b[0m \u001b[38;5;28mprint\u001b[39m(d1)\n",
      "\u001b[1;31mAttributeError\u001b[0m: type object 'datetime.time' has no attribute 'strptime'"
     ]
    }
   ],
   "source": [
    "str2=\"20:13:14\"\n",
    "d1=datetime.time.strptime(str2,\"%H:%M:%S\")\n",
    "print(d1)"
   ]
  },
  {
   "cell_type": "markdown",
   "id": "28fc4326",
   "metadata": {},
   "source": [
    "# Timedelta"
   ]
  },
  {
   "cell_type": "markdown",
   "id": "08ffe425",
   "metadata": {},
   "source": [
    "Timedelta class is used for calculating differences between dates and represents a duration. The difference can both be positive as well as negative."
   ]
  },
  {
   "cell_type": "code",
   "execution_count": 58,
   "id": "e4d37e16",
   "metadata": {},
   "outputs": [
    {
     "data": {
      "text/plain": [
       "'2025/05/17 22:57:27'"
      ]
     },
     "execution_count": 58,
     "metadata": {},
     "output_type": "execute_result"
    }
   ],
   "source": [
    "d1=(datetime.datetime.now()-datetime.timedelta(days=10)).strftime(\"%Y/%m/%d %H:%M:%S\")\n",
    "d1"
   ]
  },
  {
   "cell_type": "code",
   "execution_count": 59,
   "id": "f5ddc2fe",
   "metadata": {},
   "outputs": [
    {
     "data": {
      "text/plain": [
       "datetime.datetime(2025, 5, 26, 23, 57, 28, 145784)"
      ]
     },
     "execution_count": 59,
     "metadata": {},
     "output_type": "execute_result"
    }
   ],
   "source": [
    "d1=datetime.datetime.today()-datetime.timedelta(hours=23)\n",
    "d1"
   ]
  },
  {
   "cell_type": "code",
   "execution_count": 60,
   "id": "eed8d523",
   "metadata": {},
   "outputs": [
    {
     "data": {
      "text/plain": [
       "datetime.datetime(2025, 5, 20, 22, 57, 28, 454713)"
      ]
     },
     "execution_count": 60,
     "metadata": {},
     "output_type": "execute_result"
    }
   ],
   "source": [
    "d2=datetime.datetime.now()-datetime.timedelta(weeks=1)\n",
    "d2"
   ]
  },
  {
   "cell_type": "code",
   "execution_count": 61,
   "id": "7f49f379",
   "metadata": {},
   "outputs": [
    {
     "data": {
      "text/plain": [
       "datetime.timedelta(days=-365)"
      ]
     },
     "execution_count": 61,
     "metadata": {},
     "output_type": "execute_result"
    }
   ],
   "source": [
    "d3=datetime.datetime(2024,11,24)\n",
    "d4=datetime.datetime(2025,11,24)\n",
    "diff=d3-d4\n",
    "diff"
   ]
  },
  {
   "cell_type": "code",
   "execution_count": 62,
   "id": "c5d4a4f4",
   "metadata": {},
   "outputs": [
    {
     "data": {
      "text/plain": [
       "datetime.datetime(2024, 11, 28, 0, 0)"
      ]
     },
     "execution_count": 62,
     "metadata": {},
     "output_type": "execute_result"
    }
   ],
   "source": [
    "# d3=d3+datetime.timedelta(days=365)\n",
    "d3+=datetime.timedelta(days=4)\n",
    "d3"
   ]
  },
  {
   "cell_type": "code",
   "execution_count": 63,
   "id": "2ccca963",
   "metadata": {},
   "outputs": [
    {
     "data": {
      "text/plain": [
       "datetime.datetime(2025, 11, 24, 0, 0)"
      ]
     },
     "execution_count": 63,
     "metadata": {},
     "output_type": "execute_result"
    }
   ],
   "source": [
    "d4-+datetime.timedelta(days=365)\n",
    "d4"
   ]
  },
  {
   "cell_type": "markdown",
   "id": "2365c06a",
   "metadata": {},
   "source": [
    "# Date Time in Pandas"
   ]
  },
  {
   "cell_type": "code",
   "execution_count": 64,
   "id": "12ea0112",
   "metadata": {},
   "outputs": [],
   "source": [
    "import pandas as pd\n",
    "df = pd.DataFrame({\n",
    "    'start_time': pd.to_datetime(['2025-05-01 08:00', '2025-05-02 09:30']),\n",
    "    'end_time': pd.to_datetime(['2025-05-01 10:00', '2025-05-02 12:15'])\n",
    "})"
   ]
  },
  {
   "cell_type": "code",
   "execution_count": 65,
   "id": "e515b7a3",
   "metadata": {},
   "outputs": [
    {
     "data": {
      "text/html": [
       "<div>\n",
       "<style scoped>\n",
       "    .dataframe tbody tr th:only-of-type {\n",
       "        vertical-align: middle;\n",
       "    }\n",
       "\n",
       "    .dataframe tbody tr th {\n",
       "        vertical-align: top;\n",
       "    }\n",
       "\n",
       "    .dataframe thead th {\n",
       "        text-align: right;\n",
       "    }\n",
       "</style>\n",
       "<table border=\"1\" class=\"dataframe\">\n",
       "  <thead>\n",
       "    <tr style=\"text-align: right;\">\n",
       "      <th></th>\n",
       "      <th>start_time</th>\n",
       "      <th>end_time</th>\n",
       "      <th>rdate</th>\n",
       "    </tr>\n",
       "  </thead>\n",
       "  <tbody>\n",
       "    <tr>\n",
       "      <th>0</th>\n",
       "      <td>2025-05-01 08:00:00</td>\n",
       "      <td>2025-05-01 10:00:00</td>\n",
       "      <td>2025-05-27 22:57:31.350366</td>\n",
       "    </tr>\n",
       "    <tr>\n",
       "      <th>1</th>\n",
       "      <td>2025-05-02 09:30:00</td>\n",
       "      <td>2025-05-02 12:15:00</td>\n",
       "      <td>2025-05-27 22:57:31.350366</td>\n",
       "    </tr>\n",
       "  </tbody>\n",
       "</table>\n",
       "</div>"
      ],
      "text/plain": [
       "           start_time            end_time                      rdate\n",
       "0 2025-05-01 08:00:00 2025-05-01 10:00:00 2025-05-27 22:57:31.350366\n",
       "1 2025-05-02 09:30:00 2025-05-02 12:15:00 2025-05-27 22:57:31.350366"
      ]
     },
     "execution_count": 65,
     "metadata": {},
     "output_type": "execute_result"
    }
   ],
   "source": [
    "#add today date column\n",
    "df['rdate']=datetime.datetime.today()\n",
    "df"
   ]
  },
  {
   "cell_type": "code",
   "execution_count": 66,
   "id": "227d5d86",
   "metadata": {},
   "outputs": [],
   "source": [
    "#extract year,month,day,hour,minute,seconds from start time\n",
    "df['year']=df['start_time'].dt.year\n",
    "df['month']=df['start_time'].dt.month\n",
    "df['day']=df['start_time'].dt.day\n",
    "df['hour']=df['start_time'].dt.hour\n",
    "df['minute']=df['start_time'].dt.minute\n",
    "df['second']=df['rdate'].dt.second"
   ]
  },
  {
   "cell_type": "code",
   "execution_count": 67,
   "id": "947adaa1",
   "metadata": {},
   "outputs": [],
   "source": [
    "#converting datetime into string object\n",
    "df['rdate']=df['rdate'].apply(lambda x:x.strftime('%Y-%m-%d %H:%M:%S'))"
   ]
  },
  {
   "cell_type": "code",
   "execution_count": 68,
   "id": "b7d74292",
   "metadata": {},
   "outputs": [],
   "source": [
    "#Converting String to date time\n",
    "df['rdate']=pd.to_datetime(df['rdate'], format=\"%Y-%m-%d %H:%M:%S\")"
   ]
  },
  {
   "cell_type": "code",
   "execution_count": 69,
   "id": "b87083cc",
   "metadata": {},
   "outputs": [],
   "source": [
    "#addition of two datetime columns\n",
    "df['buffer2hr10min']=df['rdate']+datetime.timedelta(hours=2,minutes=10)"
   ]
  },
  {
   "cell_type": "code",
   "execution_count": 70,
   "id": "cb0b42b9",
   "metadata": {},
   "outputs": [],
   "source": [
    "#Substraction of two datetime columns\n",
    "df['cutoff']=df['buffer2hr10min']-datetime.timedelta(hours=3,minutes=1,seconds=30)"
   ]
  },
  {
   "cell_type": "code",
   "execution_count": 71,
   "id": "734a5f87",
   "metadata": {},
   "outputs": [],
   "source": [
    "#calculating Ageing\n",
    "df['age']=(datetime.datetime.today()-df['end_time']).dt.days"
   ]
  },
  {
   "cell_type": "code",
   "execution_count": 72,
   "id": "fc90ba85",
   "metadata": {},
   "outputs": [],
   "source": [
    "#converting age columns in minutes\n",
    "df['age_new']=(datetime.datetime.today()-df['end_time']).dt.total_seconds()/60"
   ]
  },
  {
   "cell_type": "code",
   "execution_count": 73,
   "id": "102061c3",
   "metadata": {},
   "outputs": [],
   "source": [
    "## Bucketing the minutes\n",
    "bins=[0,15,30,60,120,float('inf')]\n",
    "labels=['0-15min','15-30min','30-1Hr','1Hr-2Hrs','>2Hrs']\n",
    "df['buckets']=pd.cut(df['age_new'],bins=bins,labels=labels)"
   ]
  },
  {
   "cell_type": "code",
   "execution_count": 74,
   "id": "6df10616",
   "metadata": {
    "scrolled": true
   },
   "outputs": [],
   "source": [
    "##genarating date times[ D-daily, W=weekly,M-monthly,15T-Every 15 min,H-hourly,2H-every 2 Hours]\n",
    "date=pd.date_range(start='2025-05-01', end='2025-05-31', freq='D')\n",
    "df=pd.DataFrame({'Date':date})\n"
   ]
  },
  {
   "cell_type": "code",
   "execution_count": 75,
   "id": "e04aa9e9",
   "metadata": {},
   "outputs": [],
   "source": [
    "df['prev_date'] = df['Date'].shift(1)"
   ]
  },
  {
   "cell_type": "code",
   "execution_count": 76,
   "id": "091bc3f0",
   "metadata": {},
   "outputs": [],
   "source": [
    "df['next_date'] = df['Date'].shift(-1)"
   ]
  },
  {
   "cell_type": "code",
   "execution_count": 77,
   "id": "9a580c47",
   "metadata": {},
   "outputs": [
    {
     "name": "stderr",
     "output_type": "stream",
     "text": [
      "C:\\Users\\vinod\\AppData\\Local\\Temp\\ipykernel_20256\\3167291716.py:1: PerformanceWarning: Non-vectorized DateOffset being applied to Series or DatetimeIndex.\n",
      "  df['next_month']= df['Date']+pd.DateOffset(month=1)\n"
     ]
    }
   ],
   "source": [
    "df['next_month']= df['Date']+pd.DateOffset(month=1)"
   ]
  },
  {
   "cell_type": "code",
   "execution_count": 78,
   "id": "d74b24db",
   "metadata": {},
   "outputs": [
    {
     "name": "stdout",
     "output_type": "stream",
     "text": [
      "<class 'pandas.core.frame.DataFrame'>\n",
      "RangeIndex: 31 entries, 0 to 30\n",
      "Data columns (total 4 columns):\n",
      " #   Column      Non-Null Count  Dtype         \n",
      "---  ------      --------------  -----         \n",
      " 0   Date        31 non-null     datetime64[ns]\n",
      " 1   prev_date   30 non-null     datetime64[ns]\n",
      " 2   next_date   30 non-null     datetime64[ns]\n",
      " 3   next_month  31 non-null     datetime64[ns]\n",
      "dtypes: datetime64[ns](4)\n",
      "memory usage: 1.1 KB\n"
     ]
    }
   ],
   "source": [
    "df.info()"
   ]
  },
  {
   "cell_type": "code",
   "execution_count": 79,
   "id": "d75b8093",
   "metadata": {},
   "outputs": [
    {
     "data": {
      "text/html": [
       "<div>\n",
       "<style scoped>\n",
       "    .dataframe tbody tr th:only-of-type {\n",
       "        vertical-align: middle;\n",
       "    }\n",
       "\n",
       "    .dataframe tbody tr th {\n",
       "        vertical-align: top;\n",
       "    }\n",
       "\n",
       "    .dataframe thead th {\n",
       "        text-align: right;\n",
       "    }\n",
       "</style>\n",
       "<table border=\"1\" class=\"dataframe\">\n",
       "  <thead>\n",
       "    <tr style=\"text-align: right;\">\n",
       "      <th></th>\n",
       "      <th>Date</th>\n",
       "      <th>prev_date</th>\n",
       "      <th>next_date</th>\n",
       "      <th>next_month</th>\n",
       "    </tr>\n",
       "  </thead>\n",
       "  <tbody>\n",
       "    <tr>\n",
       "      <th>0</th>\n",
       "      <td>2025-05-01</td>\n",
       "      <td>NaT</td>\n",
       "      <td>2025-05-02</td>\n",
       "      <td>2025-01-01</td>\n",
       "    </tr>\n",
       "    <tr>\n",
       "      <th>1</th>\n",
       "      <td>2025-05-02</td>\n",
       "      <td>2025-05-01</td>\n",
       "      <td>2025-05-03</td>\n",
       "      <td>2025-01-02</td>\n",
       "    </tr>\n",
       "    <tr>\n",
       "      <th>2</th>\n",
       "      <td>2025-05-03</td>\n",
       "      <td>2025-05-02</td>\n",
       "      <td>2025-05-04</td>\n",
       "      <td>2025-01-03</td>\n",
       "    </tr>\n",
       "    <tr>\n",
       "      <th>3</th>\n",
       "      <td>2025-05-04</td>\n",
       "      <td>2025-05-03</td>\n",
       "      <td>2025-05-05</td>\n",
       "      <td>2025-01-04</td>\n",
       "    </tr>\n",
       "    <tr>\n",
       "      <th>4</th>\n",
       "      <td>2025-05-05</td>\n",
       "      <td>2025-05-04</td>\n",
       "      <td>2025-05-06</td>\n",
       "      <td>2025-01-05</td>\n",
       "    </tr>\n",
       "    <tr>\n",
       "      <th>5</th>\n",
       "      <td>2025-05-06</td>\n",
       "      <td>2025-05-05</td>\n",
       "      <td>2025-05-07</td>\n",
       "      <td>2025-01-06</td>\n",
       "    </tr>\n",
       "    <tr>\n",
       "      <th>6</th>\n",
       "      <td>2025-05-07</td>\n",
       "      <td>2025-05-06</td>\n",
       "      <td>2025-05-08</td>\n",
       "      <td>2025-01-07</td>\n",
       "    </tr>\n",
       "    <tr>\n",
       "      <th>7</th>\n",
       "      <td>2025-05-08</td>\n",
       "      <td>2025-05-07</td>\n",
       "      <td>2025-05-09</td>\n",
       "      <td>2025-01-08</td>\n",
       "    </tr>\n",
       "    <tr>\n",
       "      <th>8</th>\n",
       "      <td>2025-05-09</td>\n",
       "      <td>2025-05-08</td>\n",
       "      <td>2025-05-10</td>\n",
       "      <td>2025-01-09</td>\n",
       "    </tr>\n",
       "  </tbody>\n",
       "</table>\n",
       "</div>"
      ],
      "text/plain": [
       "        Date  prev_date  next_date next_month\n",
       "0 2025-05-01        NaT 2025-05-02 2025-01-01\n",
       "1 2025-05-02 2025-05-01 2025-05-03 2025-01-02\n",
       "2 2025-05-03 2025-05-02 2025-05-04 2025-01-03\n",
       "3 2025-05-04 2025-05-03 2025-05-05 2025-01-04\n",
       "4 2025-05-05 2025-05-04 2025-05-06 2025-01-05\n",
       "5 2025-05-06 2025-05-05 2025-05-07 2025-01-06\n",
       "6 2025-05-07 2025-05-06 2025-05-08 2025-01-07\n",
       "7 2025-05-08 2025-05-07 2025-05-09 2025-01-08\n",
       "8 2025-05-09 2025-05-08 2025-05-10 2025-01-09"
      ]
     },
     "execution_count": 79,
     "metadata": {},
     "output_type": "execute_result"
    }
   ],
   "source": [
    "#Filtering by date\n",
    "df[df['Date']>'2025-05-15']\n",
    "df[df['Date']<'2025-05-10']"
   ]
  }
 ],
 "metadata": {
  "kernelspec": {
   "display_name": "Python 3 (ipykernel)",
   "language": "python",
   "name": "python3"
  },
  "language_info": {
   "codemirror_mode": {
    "name": "ipython",
    "version": 3
   },
   "file_extension": ".py",
   "mimetype": "text/x-python",
   "name": "python",
   "nbconvert_exporter": "python",
   "pygments_lexer": "ipython3",
   "version": "3.11.5"
  }
 },
 "nbformat": 4,
 "nbformat_minor": 5
}
