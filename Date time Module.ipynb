{
 "cells": [
  {
   "cell_type": "markdown",
   "id": "c3f90059",
   "metadata": {},
   "source": [
    "## Datetime is module in that we have 4 labraries-Datetime,date,time,timedelta"
   ]
  },
  {
   "cell_type": "markdown",
   "id": "6e927aa3",
   "metadata": {},
   "source": [
    "# Datetime Class\n",
    "##Datetime handles both date and time\n"
   ]
  },
  {
   "cell_type": "code",
   "execution_count": 18,
   "id": "47c78aa0",
   "metadata": {},
   "outputs": [],
   "source": [
    "import datetime "
   ]
  },
  {
   "cell_type": "code",
   "execution_count": 19,
   "id": "60272c16",
   "metadata": {},
   "outputs": [
    {
     "name": "stdout",
     "output_type": "stream",
     "text": [
      "2025-01-13 20:50:50.087246\n"
     ]
    }
   ],
   "source": [
    "x=datetime.datetime.now()\n",
    "print(x)"
   ]
  },
  {
   "cell_type": "code",
   "execution_count": 20,
   "id": "b7ea4dfd",
   "metadata": {},
   "outputs": [
    {
     "name": "stdout",
     "output_type": "stream",
     "text": [
      "2025-01-13 15:20:50.101502\n"
     ]
    }
   ],
   "source": [
    "y=datetime.datetime.utcnow()\n",
    "print(y)"
   ]
  },
  {
   "cell_type": "code",
   "execution_count": 21,
   "id": "c6923252",
   "metadata": {},
   "outputs": [
    {
     "name": "stdout",
     "output_type": "stream",
     "text": [
      "2025-11-24 06:06:06\n"
     ]
    }
   ],
   "source": [
    "#how to create own date\n",
    "#z=datetime.datetime(year,month,date,hour,minute,seconds)\n",
    "z=datetime.datetime(2025,11,24,6,6,6)\n",
    "print(z)"
   ]
  },
  {
   "cell_type": "code",
   "execution_count": 22,
   "id": "77465bed",
   "metadata": {},
   "outputs": [
    {
     "name": "stdout",
     "output_type": "stream",
     "text": [
      "2025 \n",
      " 11 \n",
      " 24 \n",
      " 6 \n",
      " 6 \n",
      " 6\n"
     ]
    }
   ],
   "source": [
    "print(z.year,\"\\n\",z.month,\"\\n\",z.day,\"\\n\",z.hour,\"\\n\",z.minute,'\\n',z.second)"
   ]
  },
  {
   "cell_type": "code",
   "execution_count": 23,
   "id": "ef00d559",
   "metadata": {},
   "outputs": [
    {
     "name": "stdout",
     "output_type": "stream",
     "text": [
      "20\n"
     ]
    }
   ],
   "source": [
    "#1. What is the current time?\n",
    "x=datetime.datetime.now()\n",
    "print(x.hour)"
   ]
  },
  {
   "cell_type": "code",
   "execution_count": 24,
   "id": "2af53f21",
   "metadata": {},
   "outputs": [
    {
     "data": {
      "text/plain": [
       "datetime.datetime(2025, 1, 13, 20, 50, 50, 149938)"
      ]
     },
     "execution_count": 24,
     "metadata": {},
     "output_type": "execute_result"
    }
   ],
   "source": [
    "#what is todays date??\n",
    "today=datetime.datetime.now()\n",
    "today"
   ]
  },
  {
   "cell_type": "code",
   "execution_count": 25,
   "id": "146f76a2",
   "metadata": {},
   "outputs": [
    {
     "data": {
      "text/plain": [
       "datetime.datetime(2025, 1, 13, 20, 50, 50, 159265)"
      ]
     },
     "execution_count": 25,
     "metadata": {},
     "output_type": "execute_result"
    }
   ],
   "source": [
    "today=datetime.datetime.today()\n",
    "today"
   ]
  },
  {
   "cell_type": "code",
   "execution_count": 26,
   "id": "14f657be",
   "metadata": {},
   "outputs": [
    {
     "data": {
      "text/plain": [
       "'what is the difference between datetime.now() and datetime.today()????\\ndatetime.now() support time zone info but datetime.today() will not support time zone infor if you pass time zone info'"
      ]
     },
     "execution_count": 26,
     "metadata": {},
     "output_type": "execute_result"
    }
   ],
   "source": [
    "\"\"\"what is the difference between datetime.now() and datetime.today()????\n",
    "datetime.now() support time zone info but datetime.today() will not support time zone infor if you pass time zone info\"\"\""
   ]
  },
  {
   "cell_type": "code",
   "execution_count": 27,
   "id": "68436483",
   "metadata": {},
   "outputs": [
    {
     "data": {
      "text/plain": [
       "'13-1-2025'"
      ]
     },
     "execution_count": 27,
     "metadata": {},
     "output_type": "execute_result"
    }
   ],
   "source": [
    "#what is the date? only date created using datetime class\n",
    "onlydate=\"-\".join([str(today.day),str(today.month),str(today.year)])\n",
    "onlydate\n"
   ]
  },
  {
   "cell_type": "code",
   "execution_count": 28,
   "id": "99b41cc4",
   "metadata": {},
   "outputs": [
    {
     "name": "stdout",
     "output_type": "stream",
     "text": [
      "Min DateTime supported 0001-01-01 00:00:00\n",
      "Max DateTime supported 0001-01-01 00:00:00\n"
     ]
    }
   ],
   "source": [
    "#datetime min and max\n",
    "mindatetime=datetime.datetime.min\n",
    "print(\"Min DateTime supported\", mindatetime)\n",
    "maxdatetime=datetime.datetime.max\n",
    "print(\"Max DateTime supported\", mindatetime)"
   ]
  },
  {
   "cell_type": "code",
   "execution_count": 29,
   "id": "ad02a6a1",
   "metadata": {},
   "outputs": [
    {
     "name": "stdout",
     "output_type": "stream",
     "text": [
      "Datetime std timestamp: 1970-01-01 05:30:00\n",
      "Datetime from timestamp: 2025-01-11 23:30:00\n"
     ]
    }
   ],
   "source": [
    "##We can create date objects from timestamps y=using the fromtimestamp() method. \n",
    "##The timestamp is the number of seconds from 1st January 1970 at UTC to a particular date.\n",
    "date_time = datetime.datetime.fromtimestamp(0)\n",
    "print(\"Datetime std timestamp:\", date_time)\n",
    "x=(365*24*60*60*55)+(24*24*60*60)+(18*60*60)\n",
    "date_time = datetime.datetime.fromtimestamp(x)\n",
    "print(\"Datetime from timestamp:\", date_time)"
   ]
  },
  {
   "cell_type": "markdown",
   "id": "8e47acd4",
   "metadata": {},
   "source": [
    "# Date class\n"
   ]
  },
  {
   "cell_type": "code",
   "execution_count": 30,
   "id": "c147d3f2",
   "metadata": {},
   "outputs": [],
   "source": [
    "#date calss will give only date\n",
    "#To return the current local date today() function of the date class is used. today() function comes with several attributes (year, month, and day).\n"
   ]
  },
  {
   "cell_type": "code",
   "execution_count": 31,
   "id": "b2dbb226",
   "metadata": {},
   "outputs": [
    {
     "name": "stdout",
     "output_type": "stream",
     "text": [
      "todays date 2025-01-13\n"
     ]
    }
   ],
   "source": [
    "import datetime\n",
    "today=datetime.date.today()\n",
    "print(\"todays date\", today)"
   ]
  },
  {
   "cell_type": "code",
   "execution_count": 32,
   "id": "bfbcce21",
   "metadata": {},
   "outputs": [
    {
     "name": "stdout",
     "output_type": "stream",
     "text": [
      "min date 0001-01-01\n"
     ]
    }
   ],
   "source": [
    "print(\"min date\", datetime.date.min)"
   ]
  },
  {
   "cell_type": "code",
   "execution_count": 33,
   "id": "ae33014a",
   "metadata": {},
   "outputs": [
    {
     "name": "stdout",
     "output_type": "stream",
     "text": [
      "mindate 0001-01-01\n",
      "maxdate 9999-12-31\n"
     ]
    }
   ],
   "source": [
    "print(\"mindate\",today.min)\n",
    "print(\"maxdate\",today.max)"
   ]
  },
  {
   "cell_type": "code",
   "execution_count": 34,
   "id": "c4c2b7eb",
   "metadata": {},
   "outputs": [
    {
     "name": "stdout",
     "output_type": "stream",
     "text": [
      "13 \n",
      " 1 \n",
      " 2025\n"
     ]
    }
   ],
   "source": [
    "print(today.day,\"\\n\",today.month,\"\\n\",today.year)"
   ]
  },
  {
   "cell_type": "code",
   "execution_count": 35,
   "id": "f49bf320",
   "metadata": {},
   "outputs": [],
   "source": [
    "##We can convert date object to a string representation using two functions isoformat() and strftime()."
   ]
  },
  {
   "cell_type": "code",
   "execution_count": 36,
   "id": "794d2e96",
   "metadata": {
    "scrolled": true
   },
   "outputs": [
    {
     "data": {
      "text/plain": [
       "'2025-01-13'"
      ]
     },
     "execution_count": 36,
     "metadata": {},
     "output_type": "execute_result"
    }
   ],
   "source": [
    "date_in_str=datetime.date.isoformat(today)# isoformat will return only \"YYYY-MM-DD\" format\n",
    "date_in_str"
   ]
  },
  {
   "cell_type": "code",
   "execution_count": 37,
   "id": "d5345d01",
   "metadata": {},
   "outputs": [
    {
     "data": {
      "text/plain": [
       "'2025-01-13'"
      ]
     },
     "execution_count": 37,
     "metadata": {},
     "output_type": "execute_result"
    }
   ],
   "source": [
    "date_in_str1=datetime.date.today().strftime(\"%Y-%m-%d\")\n",
    "date_in_str1"
   ]
  },
  {
   "cell_type": "code",
   "execution_count": 38,
   "id": "2b30e7cb",
   "metadata": {},
   "outputs": [
    {
     "data": {
      "text/plain": [
       "'10'"
      ]
     },
     "execution_count": 38,
     "metadata": {},
     "output_type": "execute_result"
    }
   ],
   "source": [
    "#%A-Monday #%a-Mon, #%B-November #%b-Nov #j-Day of tye year #%W- Week number %I-time %p-AM/PM\n",
    "date_in_str2=datetime.datetime(2025,11,23,6,10,10).strftime(\"%S\")\n",
    "date_in_str2"
   ]
  },
  {
   "cell_type": "code",
   "execution_count": 39,
   "id": "f9337ea8",
   "metadata": {},
   "outputs": [
    {
     "data": {
      "text/plain": [
       "datetime.datetime(2025, 11, 24, 6, 10, 50)"
      ]
     },
     "execution_count": 39,
     "metadata": {},
     "output_type": "execute_result"
    }
   ],
   "source": [
    "##We can convert date object to a string representation using two functions isoformat() and strftime().\n",
    "#sting to time \n",
    "import datetime\n",
    "today='2025-11-24' ##this shold be in 'YYYY-MM-DD' format only\n",
    "today1=datetime.date.fromisoformat(today)\n",
    "today1\n",
    "\n",
    "t1='2025/11/24 06:10:50'\n",
    "t1=datetime.datetime.strptime(t1,\"%Y/%m/%d %H:%M:%S\")\n",
    "t1"
   ]
  },
  {
   "cell_type": "code",
   "execution_count": 41,
   "id": "813371f2",
   "metadata": {},
   "outputs": [
    {
     "data": {
      "text/plain": [
       "0"
      ]
     },
     "execution_count": 41,
     "metadata": {},
     "output_type": "execute_result"
    }
   ],
   "source": [
    "##weekday() function return week day considering monday as 0 and sunday as 6\n",
    "weekday_t=today1.weekday()\n",
    "weekday_t"
   ]
  },
  {
   "cell_type": "code",
   "execution_count": 42,
   "id": "69f44c38",
   "metadata": {},
   "outputs": [
    {
     "data": {
      "text/plain": [
       "1"
      ]
     },
     "execution_count": 42,
     "metadata": {},
     "output_type": "execute_result"
    }
   ],
   "source": [
    "# weekday() function return week day considering monday as 1 and sunday as 7\n",
    "weekday_t1=today1.isoweekday()\n",
    "weekday_t1"
   ]
  },
  {
   "cell_type": "code",
   "execution_count": 43,
   "id": "8555f2c9",
   "metadata": {},
   "outputs": [
    {
     "name": "stdout",
     "output_type": "stream",
     "text": [
      "Date from ordinal 0001-01-01\n",
      "Date to ordinal 739264\n"
     ]
    }
   ],
   "source": [
    "#ordinal date is 0001-01-01 \n",
    "print(\"Date from ordinal\", datetime.date.today().fromordinal(1))\n",
    "print(\"Date to ordinal\", datetime.date.today().toordinal())"
   ]
  },
  {
   "cell_type": "code",
   "execution_count": 44,
   "id": "06f56ebc",
   "metadata": {},
   "outputs": [
    {
     "data": {
      "text/plain": [
       "'Mon Jan 13 20:51:37 2025'"
      ]
     },
     "execution_count": 44,
     "metadata": {},
     "output_type": "execute_result"
    }
   ],
   "source": [
    "\"\"\"The ctime() function is used to return a string containing the date and time.\n",
    "Syntax: ctime()\n",
    "Parameters: This function does not accept any parameter.\n",
    "Return values: This function returns a string containing the date and time.\n",
    "The format of the string representation:\n",
    "\n",
    "The string is of 24-character length.\n",
    "Week is printed as a three-letter word.\n",
    "Sun, Mo, Tue, Wed, Thu, Fri, Sat\n",
    "Months are represented as three-digit letters\n",
    "Jan, Feb, Mar, Apr, May, Jun, Jul, Aug, Sep, Oct, Nov, Dec\n",
    "The day of the month is represented as a two-digit number\n",
    "Time is represented in HH:MM:SS format\n",
    "The year is a 4 digit number\"\"\"\n",
    "#Ex1\n",
    "today=datetime.date.today()\n",
    "con=today.ctime()\n",
    "con\n",
    "#Ex2\n",
    "today1=datetime.datetime.today()\n",
    "co=today1.ctime()\n",
    "co"
   ]
  },
  {
   "cell_type": "code",
   "execution_count": 45,
   "id": "7fab7043",
   "metadata": {},
   "outputs": [
    {
     "name": "stdout",
     "output_type": "stream",
     "text": [
      "todays date is Mon Jan 13 20:51:37 2025\n"
     ]
    }
   ],
   "source": [
    "#Note %s is substitute for the string and % is used for the operator\n",
    "#EX1\n",
    "print(\"todays date is %s\"%co)\n"
   ]
  },
  {
   "cell_type": "code",
   "execution_count": 46,
   "id": "e7b25d4f",
   "metadata": {},
   "outputs": [
    {
     "name": "stdout",
     "output_type": "stream",
     "text": [
      "The constructed date object is: 2012-10-12\n"
     ]
    }
   ],
   "source": [
    "import datetime \n",
    "  \n",
    "# Initializing a date \n",
    "Date = \"2012-10-12\"; \n",
    "  \n",
    "# Calling fromisoformat() function to \n",
    "# construct a datetime.date object  \n",
    "New_date = datetime.date.fromisoformat(Date); \n",
    "  \n",
    "# Printing the new constructed date object \n",
    "print(\"The constructed date object is: %s\"%New_date);"
   ]
  },
  {
   "cell_type": "code",
   "execution_count": 47,
   "id": "019f71e8",
   "metadata": {},
   "outputs": [
    {
     "name": "stdout",
     "output_type": "stream",
     "text": [
      "todays date is  2025-01-13 And isocalender is datetime.IsoCalendarDate(year=2025, week=3, weekday=1)\n"
     ]
    }
   ],
   "source": [
    "##isocalender() \n",
    "today_da=datetime.date.today()\n",
    "today=datetime.date.today().isocalendar()\n",
    "print(\"todays date is \",today_da,\"And isocalender is\",today)"
   ]
  },
  {
   "cell_type": "code",
   "execution_count": 48,
   "id": "9c9f6eb2",
   "metadata": {},
   "outputs": [
    {
     "data": {
      "text/plain": [
       "time.struct_time(tm_year=2025, tm_mon=1, tm_mday=13, tm_hour=20, tm_min=51, tm_sec=45, tm_wday=0, tm_yday=13, tm_isdst=-1)"
      ]
     },
     "execution_count": 48,
     "metadata": {},
     "output_type": "execute_result"
    }
   ],
   "source": [
    "#timetuple\n",
    "today_da=datetime.datetime.now().timetuple()\n",
    "today_da"
   ]
  },
  {
   "cell_type": "markdown",
   "id": "d0f2c11b",
   "metadata": {},
   "source": [
    "# TIme Class"
   ]
  },
  {
   "cell_type": "code",
   "execution_count": 49,
   "id": "3bf7345d",
   "metadata": {},
   "outputs": [
    {
     "data": {
      "text/plain": [
       "datetime.time(0, 0)"
      ]
     },
     "execution_count": 49,
     "metadata": {},
     "output_type": "execute_result"
    }
   ],
   "source": [
    "#time function without argument\n",
    "my_time=datetime.time()\n",
    "my_time"
   ]
  },
  {
   "cell_type": "code",
   "execution_count": 50,
   "id": "454f78ed",
   "metadata": {},
   "outputs": [
    {
     "data": {
      "text/plain": [
       "datetime.time(23, 50, 40)"
      ]
     },
     "execution_count": 50,
     "metadata": {},
     "output_type": "execute_result"
    }
   ],
   "source": [
    "#with all arguments\n",
    "my_time=datetime.time(hour=23,minute=50,second=40)\n",
    "my_time"
   ]
  },
  {
   "cell_type": "code",
   "execution_count": 51,
   "id": "a925dafa",
   "metadata": {},
   "outputs": [
    {
     "data": {
      "text/plain": [
       "datetime.time(0, 0, 40)"
      ]
     },
     "execution_count": 51,
     "metadata": {},
     "output_type": "execute_result"
    }
   ],
   "source": [
    "#with only one argument\n",
    "my_time=datetime.time(second=40)\n",
    "my_time"
   ]
  },
  {
   "cell_type": "code",
   "execution_count": 52,
   "id": "6fcdf79e",
   "metadata": {},
   "outputs": [
    {
     "name": "stdout",
     "output_type": "stream",
     "text": [
      "min time: 00:00:00\n",
      "max time: 23:59:59.999999\n"
     ]
    }
   ],
   "source": [
    "#min and max time\n",
    "print(\"min time:\",datetime.time.min)\n",
    "print(\"max time:\",datetime.time.max)"
   ]
  },
  {
   "cell_type": "code",
   "execution_count": 53,
   "id": "52d95f03",
   "metadata": {},
   "outputs": [
    {
     "data": {
      "text/plain": [
       "datetime.time(20, 51, 50, 337952)"
      ]
     },
     "execution_count": 53,
     "metadata": {},
     "output_type": "execute_result"
    }
   ],
   "source": [
    "today=datetime.datetime.today().time()\n",
    "today"
   ]
  },
  {
   "cell_type": "code",
   "execution_count": 54,
   "id": "496dba87",
   "metadata": {},
   "outputs": [
    {
     "data": {
      "text/plain": [
       "datetime.time(20, 51, 50, 628715)"
      ]
     },
     "execution_count": 54,
     "metadata": {},
     "output_type": "execute_result"
    }
   ],
   "source": [
    "now=datetime.datetime.now().time()\n",
    "now"
   ]
  },
  {
   "cell_type": "code",
   "execution_count": 57,
   "id": "6e88150a",
   "metadata": {},
   "outputs": [
    {
     "name": "stdout",
     "output_type": "stream",
     "text": [
      "20 \n",
      " 51 \n",
      " 50\n"
     ]
    }
   ],
   "source": [
    "print(now.hour,\"\\n\",now.minute,\"\\n\",now.second)"
   ]
  },
  {
   "cell_type": "code",
   "execution_count": 62,
   "id": "73ffa3de",
   "metadata": {},
   "outputs": [
    {
     "name": "stdout",
     "output_type": "stream",
     "text": [
      "2 3\n",
      "2\n",
      "3\n",
      "3\n",
      "Elapsed time: 2799387782115500 ns 2799384901365000 ns\n",
      "Elapsed time during the whole program 2880750500 ns\n"
     ]
    }
   ],
   "source": [
    "from time import perf_counter_ns \n",
    "  \n",
    "# integer input from user, 2 input in single line \n",
    "n, m = map(int, input().split()) \n",
    "  \n",
    "# Start the stopwatch / counter \n",
    "start = perf_counter_ns() \n",
    "  \n",
    "for i in range(n): \n",
    "    t = int(input())  # user gave input n times \n",
    "    if t % m == 0: \n",
    "        print(t) \n",
    "  \n",
    "# Stop the stopwatch / counter \n",
    "stop = perf_counter_ns() \n",
    "  \n",
    "print(\"Elapsed time:\", stop, 'ns', start, 'ns') \n",
    "  \n",
    "print(\"Elapsed time during the whole program\", \n",
    "      stop-start, 'ns') "
   ]
  },
  {
   "cell_type": "code",
   "execution_count": null,
   "id": "884d6c54",
   "metadata": {},
   "outputs": [],
   "source": []
  }
 ],
 "metadata": {
  "kernelspec": {
   "display_name": "Python 3 (ipykernel)",
   "language": "python",
   "name": "python3"
  },
  "language_info": {
   "codemirror_mode": {
    "name": "ipython",
    "version": 3
   },
   "file_extension": ".py",
   "mimetype": "text/x-python",
   "name": "python",
   "nbconvert_exporter": "python",
   "pygments_lexer": "ipython3",
   "version": "3.11.5"
  }
 },
 "nbformat": 4,
 "nbformat_minor": 5
}
