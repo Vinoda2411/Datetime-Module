{
 "cells": [
  {
   "cell_type": "code",
   "execution_count": 10,
   "id": "47c78aa0",
   "metadata": {},
   "outputs": [],
   "source": [
    "import datetime "
   ]
  },
  {
   "cell_type": "markdown",
   "id": "c3f90059",
   "metadata": {},
   "source": [
    "## Datetime is module in that we have 4 labraries-Datetime,date,time,timedelta"
   ]
  },
  {
   "cell_type": "code",
   "execution_count": null,
   "id": "7dfe2a77",
   "metadata": {},
   "outputs": [],
   "source": [
    "#datetime handles both date and time"
   ]
  },
  {
   "cell_type": "code",
   "execution_count": 11,
   "id": "60272c16",
   "metadata": {},
   "outputs": [
    {
     "name": "stdout",
     "output_type": "stream",
     "text": [
      "2025-01-08 21:04:04.662485\n"
     ]
    }
   ],
   "source": [
    "x=datetime.datetime.now()\n",
    "print(x)"
   ]
  },
  {
   "cell_type": "code",
   "execution_count": 14,
   "id": "b7ea4dfd",
   "metadata": {},
   "outputs": [
    {
     "name": "stdout",
     "output_type": "stream",
     "text": [
      "2025-01-08 15:34:57.305847\n"
     ]
    }
   ],
   "source": [
    "y=datetime.datetime.utcnow()\n",
    "print(y)"
   ]
  },
  {
   "cell_type": "code",
   "execution_count": 17,
   "id": "c6923252",
   "metadata": {},
   "outputs": [
    {
     "name": "stdout",
     "output_type": "stream",
     "text": [
      "2025-11-24 06:06:06\n"
     ]
    }
   ],
   "source": [
    "#how to create own date\n",
    "#z=datetime.datetime(year,month,date,hour,minute,seconds)\n",
    "z=datetime.datetime(2025,11,24,6,6,6)\n",
    "print(z)"
   ]
  },
  {
   "cell_type": "code",
   "execution_count": 30,
   "id": "77465bed",
   "metadata": {},
   "outputs": [
    {
     "name": "stdout",
     "output_type": "stream",
     "text": [
      "2025 \n",
      " 11 \n",
      " 24 \n",
      " 6 \n",
      " 6 \n",
      " 6\n"
     ]
    }
   ],
   "source": [
    "print(z.year,\"\\n\",z.month,\"\\n\",z.day,\"\\n\",z.hour,\"\\n\",z.minute,'\\n',z.second)"
   ]
  },
  {
   "cell_type": "code",
   "execution_count": 1,
   "id": "ef00d559",
   "metadata": {},
   "outputs": [
    {
     "ename": "AttributeError",
     "evalue": "module 'datetime' has no attribute 'utcnow'",
     "output_type": "error",
     "traceback": [
      "\u001b[1;31m---------------------------------------------------------------------------\u001b[0m",
      "\u001b[1;31mAttributeError\u001b[0m                            Traceback (most recent call last)",
      "Cell \u001b[1;32mIn[1], line 2\u001b[0m\n\u001b[0;32m      1\u001b[0m \u001b[38;5;28;01mimport\u001b[39;00m \u001b[38;5;21;01mdatetime\u001b[39;00m\n\u001b[1;32m----> 2\u001b[0m x\u001b[38;5;241m=\u001b[39mdatetime\u001b[38;5;241m.\u001b[39mutcnow()\n\u001b[0;32m      3\u001b[0m \u001b[38;5;28mprint\u001b[39m(x)\n",
      "\u001b[1;31mAttributeError\u001b[0m: module 'datetime' has no attribute 'utcnow'"
     ]
    }
   ],
   "source": [
    "import datetime\n",
    "x=datetime.utcnow()\n",
    "print(x)"
   ]
  },
  {
   "cell_type": "code",
   "execution_count": null,
   "id": "c296d648",
   "metadata": {},
   "outputs": [],
   "source": []
  }
 ],
 "metadata": {
  "kernelspec": {
   "display_name": "Python 3 (ipykernel)",
   "language": "python",
   "name": "python3"
  },
  "language_info": {
   "codemirror_mode": {
    "name": "ipython",
    "version": 3
   },
   "file_extension": ".py",
   "mimetype": "text/x-python",
   "name": "python",
   "nbconvert_exporter": "python",
   "pygments_lexer": "ipython3",
   "version": "3.11.5"
  }
 },
 "nbformat": 4,
 "nbformat_minor": 5
}
