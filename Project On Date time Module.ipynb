{
 "cells": [
  {
   "cell_type": "code",
   "execution_count": null,
   "id": "13f13820",
   "metadata": {},
   "outputs": [],
   "source": [
    "import datetime as dt\n",
    "\n",
    "n = int(input(\"Enter the number of events: \"))\n",
    "events = {}\n",
    "\n",
    "for i in range(n):\n",
    "    event_name = input(f\"Enter the {i+1} Name of the person: \")\n",
    "    date_str = input(f\"Enter the date of Birth {i+1} (DD-MM-YYYY): \")\n",
    "    \n",
    "    try:\n",
    "        event_date = dt.datetime.strptime(date_str, \"%d-%m-%Y\")\n",
    "        events[event_name] = event_date\n",
    "    except ValueError:\n",
    "        print(\"❌ Wrong Input! Please enter the date in the format DD-MM-YYYY.\")\n",
    "\n",
    "now = dt.datetime.today()\n",
    "\n",
    "for name, event_time in events.items():\n",
    "    # Create this year's birthday date\n",
    "    this_year_birthday = dt.datetime(year=now.year, month=event_time.month, day=event_time.day)\n",
    "\n",
    "    if this_year_birthday.date() == now.date():\n",
    "        print(f\"🎉 Wish you a Happy Birthday, {name}!\")\n",
    "    elif this_year_birthday > now:\n",
    "        time_left = this_year_birthday - now\n",
    "    else:\n",
    "        # If birthday already passed this year, check for next year\n",
    "        next_year_birthday = dt.datetime(year=now.year + 1, month=event_time.month, day=event_time.day)\n",
    "        time_left = next_year_birthday - now\n",
    "\n",
    "    if this_year_birthday.date() != now.date():\n",
    "        print(f\"{name}'s birthday is in {time_left.days} days.\")\n"
   ]
  },
  {
   "cell_type": "code",
   "execution_count": null,
   "id": "f289eea6",
   "metadata": {},
   "outputs": [],
   "source": [
    "from datetime import datetime\n",
    "\n",
    "# Step 1: Get number of events\n",
    "n = int(input(\"Enter the number of upcoming events: \"))\n",
    "events = {}\n",
    "\n",
    "# Step 2: Get event details\n",
    "for i in range(n):\n",
    "    name = input(f\"\\nEnter the name of event {i+1}: \")\n",
    "    date_str = input(\"Enter the date and time (YYYY-MM-DD HH:MM): \")\n",
    "    try:\n",
    "        event_datetime = datetime.strptime(date_str, \"%Y-%m-%d %H:%M\")\n",
    "        events[name] = event_datetime\n",
    "    except ValueError:\n",
    "        print(\"Incorrect date format! Please follow YYYY-MM-DD HH:MM format.\")\n",
    "        continue\n",
    "\n",
    "# Step 3: Display countdown for each event\n",
    "print(\"\\n📅 Event Countdown:\")\n",
    "for name, event_time in events.items():\n",
    "    now = datetime.now()\n",
    "    time_left = event_time - now\n",
    "    if time_left.total_seconds() > 0:\n",
    "        days = time_left.days\n",
    "        hours, rem = divmod(time_left.seconds, 3600)\n",
    "        minutes = rem // 60\n",
    "        print(f\"{name}: {days} days, {hours} hours, {minutes} minutes left.\")\n",
    "    else:\n",
    "        print(f\"{name}: Already passed!\")\n",
    "\n",
    "        "
   ]
  }
 ],
 "metadata": {
  "kernelspec": {
   "display_name": "Python 3 (ipykernel)",
   "language": "python",
   "name": "python3"
  },
  "language_info": {
   "codemirror_mode": {
    "name": "ipython",
    "version": 3
   },
   "file_extension": ".py",
   "mimetype": "text/x-python",
   "name": "python",
   "nbconvert_exporter": "python",
   "pygments_lexer": "ipython3",
   "version": "3.11.5"
  }
 },
 "nbformat": 4,
 "nbformat_minor": 5
}
